{
 "cells": [
  {
   "cell_type": "code",
   "execution_count": 7,
   "metadata": {},
   "outputs": [],
   "source": [
    "import sys\n",
    "import math\n",
    "import matplotlib.pyplot as plt\n",
    "import numpy as np\n",
    "import glob\n",
    "import os\n",
    "\n",
    "from numpy import asarray\n",
    "from PIL import Image\n",
    "from skimage.draw import ellipse\n",
    "from skimage.measure import label, regionprops, find_contours, approximate_polygon\n",
    "from skimage.transform import rotate\n",
    "from sklearn.neighbors import KDTree\n",
    "from scipy.spatial import distance\n",
    "\n",
    "### Uses numpy, skimage, pillow"
   ]
  },
  {
   "cell_type": "code",
   "execution_count": 2,
   "metadata": {},
   "outputs": [],
   "source": [
    "class cell_poly:\n",
    "    #centroid as a 1x2 tuple (x,y)\n",
    "    #polygon as a list of 1x2 tuples (x,y)\n",
    "    def __init__(self, centroid, polygon):\n",
    "        self.centroid = centroid\n",
    "        self.polygon = polygon"
   ]
  },
  {
   "cell_type": "code",
   "execution_count": 3,
   "metadata": {},
   "outputs": [],
   "source": [
    "def cell_poly_properties(img):\n",
    "    #takes in an array of a binary mask\n",
    "    #finds all cell centroids and polygonal borders in a given mask\n",
    "    #returns a cell array of user defined objects\n",
    "    \n",
    "    cell_poly_list = []\n",
    "    \n",
    "    #img = asarray(Image.open(image_path))\n",
    "    img = label(img)\n",
    "    regions = regionprops(img)\n",
    "    boundary = []\n",
    "    for i,contour in enumerate(find_contours(img, 0)):\n",
    "        boundary[i] = approximate_polygon(contour, tolerance = 1)\n",
    "        \n",
    "    for i,contour in enumerate(boundary):\n",
    "        cell_poly_list[i] = cell_poly(regions[i].centroid, boundary[i])\n",
    "    return cell_poly_list"
   ]
  },
  {
   "cell_type": "code",
   "execution_count": 12,
   "metadata": {},
   "outputs": [],
   "source": [
    "def make_adjacencies(clist, mindist):\n",
    "    #takes a list of n cell_poly objects\n",
    "    #takes a minimum distance defined as adjacent\n",
    "    #returns an adjacency list of length n\n",
    "    \n",
    "    centroid_list = []\n",
    "    adjacency_list = []\n",
    "    wide_list = []\n",
    "    \n",
    "    for i,cell in enumerate(clist):\n",
    "        centroid_list[i] = cell.centroid\n",
    "    \n",
    "    tree = KDTree(centroid_list, leafsize=10)\n",
    "    \n",
    "    wide_list = [tree.query_radius(center, mindist*10) for center in centroid_list]\n",
    "    \n",
    "    for i,small_list in enumerate(len(wide_list)):\n",
    "        counter = 0\n",
    "        adjacency_list[i] = list()\n",
    "        for index in small_list:\n",
    "            d = distance.cdist(clist[i].polygon,clist[index].polygon,'euclidean')\n",
    "            if min(d) < mindist:\n",
    "                adjacency_list[i][counter] = index\n",
    "                counter += 1\n",
    "    \n",
    "    return adjacency_list"
   ]
  },
  {
   "cell_type": "code",
   "execution_count": null,
   "metadata": {},
   "outputs": [],
   "source": [
    "#driver\n",
    "\n",
    "'''\n",
    "images[]\n",
    "for image_path in glob.glob(sys.argv[1] + '/*.png'): #filepath of folder\n",
    "    #print(image_path)\n",
    "    img = Image.open(image_path)\n",
    "    images.append(asarray(img))\n",
    "'''\n"
   ]
  }
 ],
 "metadata": {
  "kernelspec": {
   "display_name": "Python 3",
   "language": "python",
   "name": "python3"
  },
  "language_info": {
   "codemirror_mode": {
    "name": "ipython",
    "version": 3
   },
   "file_extension": ".py",
   "mimetype": "text/x-python",
   "name": "python",
   "nbconvert_exporter": "python",
   "pygments_lexer": "ipython3",
   "version": "3.7.3"
  }
 },
 "nbformat": 4,
 "nbformat_minor": 4
}
