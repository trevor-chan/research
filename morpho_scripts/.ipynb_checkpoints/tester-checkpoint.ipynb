{
 "cells": [
  {
   "cell_type": "code",
   "execution_count": 11,
   "metadata": {},
   "outputs": [],
   "source": [
    "import sys\n",
    "import matplotlib.pyplot as plt\n",
    "import numpy as np\n",
    "import os\n",
    "import scipy\n",
    "import scipy.special\n",
    "import cv2\n",
    "\n",
    "import torch\n",
    "\n",
    "import networkx as nx\n",
    "\n",
    "import pickle\n",
    "from PIL import Image, ImageDraw\n",
    "import matplotlib.lines as lines\n",
    "from mpl_toolkits import mplot3d\n",
    "from matplotlib.lines import Line2D\n",
    "\n",
    "from tqdm import tqdm\n",
    "import glob\n",
    "\n",
    "import statistics \n",
    "\n",
    "#For network adjacency checks\n",
    "from skimage.transform import rotate\n",
    "from sklearn.neighbors import KDTree\n",
    "from scipy.spatial import distance\n",
    "\n",
    "#For PCA\n",
    "import pandas as pd\n",
    "from sklearn.decomposition import PCA\n",
    "from sklearn.preprocessing import StandardScaler\n",
    "\n",
    "import seaborn as sns\n",
    "import pandas as pd\n",
    "\n",
    "import warnings\n",
    "\n",
    "np.seterr(all='raise')\n",
    "scipy.special.seterr(all='raise')\n",
    "\n",
    "from lineage_timeless import lineage_timeless\n",
    "from network_object import network_object\n",
    "from cell_object import cell_object"
   ]
  },
  {
   "cell_type": "code",
   "execution_count": 12,
   "metadata": {},
   "outputs": [
    {
     "name": "stderr",
     "output_type": "stream",
     "text": [
      "/Volumes/TC_backup/SCC_YMR/p1/YMR_1.1: 100%|██████████| 20/20 [00:19<00:00,  1.01it/s]\n"
     ]
    }
   ],
   "source": [
    "argv = [0,'/Volumes/TC_backup/SCC_YMR/p1/YMR_1.1','rerun','testlineage']\n",
    "\n",
    "assert len(argv) > 1, \"(lineage directory) (rerun = False) (output location and filename - '.lineage')\"\n",
    "lineage_path = argv[1]\n",
    "rerun = False\n",
    "if len(argv) > 2:\n",
    "    rerun = True\n",
    "\n",
    "#if both output files exist, exit\n",
    "if os.path.isfile(lineage_path+\".lineage\") and rerun == False:\n",
    "    sys.exit(lineage_path+\".lineage  already exists\")\n",
    "\n",
    "out_lineage = lineage_timeless(lineage_path, lineage_path, calc_fdim = False)\n",
    "\n",
    "if len(argv) >3:\n",
    "    out_lineage.save_object(fout = argv[3] + \".lineage\")\n",
    "else:\n",
    "    out_lineage.save_object(fout = lineage_path +\".lineage\")"
   ]
  },
  {
   "cell_type": "code",
   "execution_count": 13,
   "metadata": {},
   "outputs": [
    {
     "name": "stdout",
     "output_type": "stream",
     "text": [
      "1\n"
     ]
    }
   ],
   "source": [
    "globalpath = \"/\"\n",
    "\n",
    "lineage_list = []\n",
    "\n",
    "lineage_path = \"testlineage.lineage\"\n",
    "templineage = lineage_timeless(lineage_path[0:-8], lineage_path[0:-8], read=False)\n",
    "templineage.load_object(fin = lineage_path)\n",
    "if len(templineage.items) > 10:\n",
    "    lineage_list.append(templineage)\n",
    "\n",
    "print(len(lineage_list))"
   ]
  },
  {
   "cell_type": "code",
   "execution_count": 14,
   "metadata": {},
   "outputs": [
    {
     "name": "stdout",
     "output_type": "stream",
     "text": [
      ".1\n",
      "1\n"
     ]
    }
   ],
   "source": [
    "lineage_list = [lineage for lineage in lineage_list]# if \"p3\" not in lineage.tag]\n",
    "for lineage in lineage_list:\n",
    "    lineage.tag = lineage.tag[35:]\n",
    "    print(lineage.tag)\n",
    "print(len(lineage_list))"
   ]
  },
  {
   "cell_type": "code",
   "execution_count": 15,
   "metadata": {},
   "outputs": [],
   "source": [
    "tester = lineage_list[0]"
   ]
  },
  {
   "cell_type": "code",
   "execution_count": 16,
   "metadata": {},
   "outputs": [
    {
     "data": {
      "text/plain": [
       "1.0"
      ]
     },
     "execution_count": 16,
     "metadata": {},
     "output_type": "execute_result"
    }
   ],
   "source": [
    "tester.items[0].shannon_entropy([0,1])"
   ]
  },
  {
   "cell_type": "markdown",
   "metadata": {},
   "source": []
  },
  {
   "cell_type": "code",
   "execution_count": 17,
   "metadata": {},
   "outputs": [
    {
     "data": {
      "text/plain": [
       "2.262772282917344"
      ]
     },
     "execution_count": 17,
     "metadata": {},
     "output_type": "execute_result"
    }
   ],
   "source": [
    "tester.items[19].compmass_entropy()"
   ]
  },
  {
   "cell_type": "code",
   "execution_count": 18,
   "metadata": {},
   "outputs": [
    {
     "data": {
      "text/plain": [
       "0.32984607020714635"
      ]
     },
     "execution_count": 18,
     "metadata": {},
     "output_type": "execute_result"
    }
   ],
   "source": [
    "tester.items[5].colorability_entropy()"
   ]
  },
  {
   "cell_type": "code",
   "execution_count": 19,
   "metadata": {},
   "outputs": [
    {
     "data": {
      "text/plain": [
       "1.110504655989526"
      ]
     },
     "execution_count": 19,
     "metadata": {},
     "output_type": "execute_result"
    }
   ],
   "source": [
    "tester.items[8].degree_entropy()"
   ]
  }
 ],
 "metadata": {
  "kernelspec": {
   "display_name": "Python 3",
   "language": "python",
   "name": "python3"
  },
  "language_info": {
   "codemirror_mode": {
    "name": "ipython",
    "version": 3
   },
   "file_extension": ".py",
   "mimetype": "text/x-python",
   "name": "python",
   "nbconvert_exporter": "python",
   "pygments_lexer": "ipython3",
   "version": "3.7.7"
  }
 },
 "nbformat": 4,
 "nbformat_minor": 4
}
