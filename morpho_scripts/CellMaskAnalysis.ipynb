{
 "cells": [
  {
   "cell_type": "code",
   "execution_count": 17,
   "metadata": {},
   "outputs": [],
   "source": [
    "import sys\n",
    "import math\n",
    "import matplotlib.pyplot as plt\n",
    "import numpy as np\n",
    "import glob\n",
    "import os\n",
    "from PIL import Image, ImageDraw\n",
    "import torch\n",
    "\n",
    "from tqdm import tqdm\n",
    "\n",
    "import seaborn as sns\n",
    "import pickle\n",
    "\n",
    "import cv2\n",
    "\n",
    "#from skimage.draw import ellipse\n",
    "from skimage.measure import label, regionprops, find_contours, approximate_polygon\n",
    "from skimage.transform import rotate\n",
    "from sklearn.neighbors import KDTree\n",
    "from scipy.spatial import distance\n"
   ]
  },
  {
   "cell_type": "code",
   "execution_count": 18,
   "metadata": {},
   "outputs": [],
   "source": [
    "class cell_object:\n",
    "    #Cell object - takes in a segmentation output and initializes a cell-object with notable properties calculated\n",
    "    #\n",
    "    \n",
    "    def __init__(self, pred_box, polygon, score):\n",
    "        self.boundingbox = pred_box\n",
    "        \n",
    "        if len(polygon) == 1:\n",
    "            self.polygon = polygon[0]\n",
    "        else:\n",
    "            self.polygon = max(polygon, key = len)\n",
    "        self.score = score\n",
    "        \n",
    "        \n",
    "            \n",
    "        \n",
    "        self.mask = self.construct_b_mask(self.polygon,self.boundingbox)\n",
    "        self.perimeter = self.calc_perimeter(self.polygon)\n",
    "        \n",
    "        self.centroid = self.calc_centroid(self.boundingbox)\n",
    "        \n",
    "        region_props = self.cell_poly_properties(self.mask)\n",
    "        \n",
    "        self.area = region_props[0]\n",
    "        self.orientation = region_props[1]\n",
    "        self.majaxis = region_props[2]\n",
    "        self.minaxis = region_props[3]\n",
    "        self.circularity = self.calc_circularity(self.area,self.perimeter)\n",
    "        \n",
    "    def construct_b_mask(self, polygon, bbox):\n",
    "        buffer = 5\n",
    "        width = int(abs(bbox[0]-bbox[2]))+2*buffer\n",
    "        height = int(abs(bbox[1]-bbox[3]))+2*buffer\n",
    "        result = np.copy(polygon)\n",
    "        result[0::2] = np.subtract(result[0::2], min(result[0::2])-buffer)\n",
    "        result[1::2] = np.subtract(result[1::2], min(result[1::2])-buffer)\n",
    "        \n",
    "        img = Image.new('1', (width, height), 0)\n",
    "        img1 = ImageDraw.Draw(img)\n",
    "        img1.polygon(result.tolist(), fill = 1, outline = 1)\n",
    "        return np.array(img)\n",
    "    \n",
    "    def calc_centroid(self, bbox):\n",
    "        return (((bbox[0]+bbox[2])/2).item() , ((bbox[1]+bbox[3])/2).item())\n",
    "        \n",
    "    def calc_perimeter(self, polygon):\n",
    "        perimeter = 0\n",
    "        for i in range (0,len(polygon)-4,2):\n",
    "            perimeter += math.sqrt((polygon[i]-polygon[i+2])**2 + (polygon[i+1]-polygon[i+3])**2)\n",
    "        perimeter += math.sqrt((polygon[0]-polygon[len(polygon)-2])**2 + (polygon[1]-polygon[len(polygon)-1])**2)\n",
    "        return perimeter\n",
    "    \n",
    "    def cell_poly_properties(self, img):\n",
    "        #takes in an array of a binary mask\n",
    "        #finds notable cell properties\n",
    "        #returns a cell array of user defined objects\n",
    "\n",
    "        img = label(img)\n",
    "        regions = regionprops(img)\n",
    "        #print(regions[0].perimeter)\n",
    "        \n",
    "        cell_properties = (regions[0].area, regions[0].orientation, regions[0].major_axis_length, \n",
    "                           regions[0].minor_axis_length)\n",
    "\n",
    "        return cell_properties\n",
    "    \n",
    "    def calc_circularity(self, area, perimeter):\n",
    "        return (area * 4 * math.pi / (perimeter**2))\n",
    "    \n",
    "    def pickle_object(self):\n",
    "        #pickle whole object\n",
    "        return 0\n",
    "    "
   ]
  },
  {
   "cell_type": "code",
   "execution_count": 26,
   "metadata": {},
   "outputs": [],
   "source": [
    "#Class object for Lineage Data:\n",
    "'''\n",
    "For one cell lineage over multiple passages\n",
    "contains in level:\n",
    "cell lineage - tag\n",
    "list of passages\n",
    "list of days\n",
    "list of cell objects\n",
    "\n",
    "'''\n",
    "\n",
    "class lineage:\n",
    "    #lineage: reads in data from instances arranged in file tree as:\n",
    "        #passages\n",
    "            #days\n",
    "                #instances - read in and intialize network_object\n",
    "                #images(optional)\n",
    "    \n",
    "    \n",
    "    def __init__(self, filepath, tag):\n",
    "        \n",
    "        self.tag = tag\n",
    "        \n",
    "        self.items = self.read_in(filepath)\n",
    "        \n",
    "    def read_in(self, filepath):\n",
    "        result = []\n",
    "        for passage_path in sorted(glob.glob(filepath+'/*/')):\n",
    "            print(passage_path)\n",
    "            days = []\n",
    "            for day_path in sorted(glob.glob(passage_path+'*/')):\n",
    "                print(day_path)\n",
    "                cells = []\n",
    "                for instance_path in sorted(glob.glob(day_path+'*.data')):\n",
    "                    instances = {}\n",
    "                    with open(instance_path, 'rb') as filehandle:\n",
    "                        instances = pickle.load(filehandle)\n",
    "                    print(instance_path)\n",
    "                    for i in range(len(instances['pred_boxes'])):\n",
    "                        cells.append(cell_object(instances['pred_boxes'][i],\n",
    "                                                 instances['pred_masks'][i],\n",
    "                                                 instances['scores'][i]))\n",
    "\n",
    "                days.append(cells)\n",
    "            result.append(days)\n",
    "        return result\n",
    "    \n",
    "\n",
    "    def pickle_object(self):\n",
    "        #pickle the whole object\n",
    "        return 0"
   ]
  },
  {
   "cell_type": "code",
   "execution_count": 51,
   "metadata": {},
   "outputs": [
    {
     "name": "stdout",
     "output_type": "stream",
     "text": [
      "/home/trevor/Documents/Osmotic_trees/HYPER/p1/\n",
      "/home/trevor/Documents/Osmotic_trees/HYPER/p1/d1/\n",
      "/home/trevor/Documents/Osmotic_trees/HYPER/p1/d1/instances367.data\n",
      "/home/trevor/Documents/Osmotic_trees/HYPER/p1/d1/instances369.data\n",
      "/home/trevor/Documents/Osmotic_trees/HYPER/p1/d1/instances373.data\n",
      "/home/trevor/Documents/Osmotic_trees/HYPER/p1/d1/instances375.data\n",
      "/home/trevor/Documents/Osmotic_trees/HYPER/p1/d1/instances376.data\n",
      "/home/trevor/Documents/Osmotic_trees/HYPER/p1/d1/instances378.data\n",
      "/home/trevor/Documents/Osmotic_trees/HYPER/p1/d1/instances382.data\n",
      "/home/trevor/Documents/Osmotic_trees/HYPER/p1/d1/instances384.data\n",
      "/home/trevor/Documents/Osmotic_trees/HYPER/p1/d2/\n",
      "/home/trevor/Documents/Osmotic_trees/HYPER/p1/d3/\n",
      "/home/trevor/Documents/Osmotic_trees/HYPER/p1/d4/\n",
      "/home/trevor/Documents/Osmotic_trees/HYPER/p2/\n",
      "/home/trevor/Documents/Osmotic_trees/HYPER/p2/d1/\n",
      "/home/trevor/Documents/Osmotic_trees/HYPER/p2/d2/\n",
      "/home/trevor/Documents/Osmotic_trees/HYPER/p2/d3/\n",
      "/home/trevor/Documents/Osmotic_trees/HYPER/p2/d4/\n",
      "/home/trevor/Documents/Osmotic_trees/HYPER/p2/d4/instances170975.data\n",
      "/home/trevor/Documents/Osmotic_trees/HYPER/p2/d4/instances170977.data\n",
      "/home/trevor/Documents/Osmotic_trees/HYPER/p2/d4/instances170979.data\n",
      "/home/trevor/Documents/Osmotic_trees/HYPER/p2/d4/instances170985.data\n",
      "/home/trevor/Documents/Osmotic_trees/HYPER/p2/d4/instances170987.data\n",
      "/home/trevor/Documents/Osmotic_trees/HYPER/p2/d4/instances170989.data\n",
      "/home/trevor/Documents/Osmotic_trees/HYPER/p2/d4/instances170990.data\n",
      "/home/trevor/Documents/Osmotic_trees/HYPER/p2/d4/instances170992.data\n",
      "/home/trevor/Documents/Osmotic_trees/HYPER/p2/d4/instances170994.data\n",
      "/home/trevor/Documents/Osmotic_trees/HYPER/p2/d4/instances171000.data\n",
      "/home/trevor/Documents/Osmotic_trees/HYPER/p2/d4/instances171002.data\n",
      "/home/trevor/Documents/Osmotic_trees/HYPER/p2/d4/instances171004.data\n",
      "/home/trevor/Documents/Osmotic_trees/HYPER/p3/\n",
      "/home/trevor/Documents/Osmotic_trees/HYPER/p3/d1/\n",
      "/home/trevor/Documents/Osmotic_trees/HYPER/p3/d2/\n",
      "/home/trevor/Documents/Osmotic_trees/HYPER/p3/d3/\n",
      "/home/trevor/Documents/Osmotic_trees/HYPER/p3/d3/instances1265.data\n",
      "/home/trevor/Documents/Osmotic_trees/HYPER/p3/d3/instances1267.data\n",
      "/home/trevor/Documents/Osmotic_trees/HYPER/p3/d3/instances1269.data\n",
      "/home/trevor/Documents/Osmotic_trees/HYPER/p3/d3/instances1275.data\n",
      "/home/trevor/Documents/Osmotic_trees/HYPER/p3/d3/instances1277.data\n",
      "/home/trevor/Documents/Osmotic_trees/HYPER/p3/d3/instances1279.data\n",
      "/home/trevor/Documents/Osmotic_trees/HYPER/p3/d3/instances1280.data\n",
      "/home/trevor/Documents/Osmotic_trees/HYPER/p3/d3/instances1282.data\n",
      "/home/trevor/Documents/Osmotic_trees/HYPER/p3/d3/instances1284.data\n",
      "/home/trevor/Documents/Osmotic_trees/HYPER/p3/d3/instances1290.data\n",
      "/home/trevor/Documents/Osmotic_trees/HYPER/p3/d3/instances1292.data\n",
      "/home/trevor/Documents/Osmotic_trees/HYPER/p3/d3/instances1294.data\n",
      "/home/trevor/Documents/Osmotic_trees/HYPER/p3/d4/\n",
      "/home/trevor/Documents/Osmotic_trees/HYPER/p4/\n",
      "/home/trevor/Documents/Osmotic_trees/HYPER/p4/d1/\n",
      "/home/trevor/Documents/Osmotic_trees/HYPER/p4/d2/\n",
      "/home/trevor/Documents/Osmotic_trees/HYPER/p4/d3/\n",
      "/home/trevor/Documents/Osmotic_trees/HYPER/p4/d3/instances2110.data\n",
      "/home/trevor/Documents/Osmotic_trees/HYPER/p4/d3/instances2112.data\n",
      "/home/trevor/Documents/Osmotic_trees/HYPER/p4/d3/instances2114.data\n",
      "/home/trevor/Documents/Osmotic_trees/HYPER/p4/d3/instances2125.data\n",
      "/home/trevor/Documents/Osmotic_trees/HYPER/p4/d3/instances2127.data\n",
      "/home/trevor/Documents/Osmotic_trees/HYPER/p4/d3/instances2129.data\n",
      "/home/trevor/Documents/Osmotic_trees/HYPER/p4/d3/instances2130.data\n",
      "/home/trevor/Documents/Osmotic_trees/HYPER/p4/d3/instances2132.data\n",
      "/home/trevor/Documents/Osmotic_trees/HYPER/p4/d3/instances2134.data\n",
      "/home/trevor/Documents/Osmotic_trees/HYPER/p4/d3/instances2140.data\n",
      "/home/trevor/Documents/Osmotic_trees/HYPER/p4/d3/instances2142.data\n",
      "/home/trevor/Documents/Osmotic_trees/HYPER/p4/d3/instances2144.data\n",
      "/home/trevor/Documents/Osmotic_trees/HYPER/p4/d4/\n",
      "/home/trevor/Documents/Osmotic_trees/HYPER/p5/\n",
      "/home/trevor/Documents/Osmotic_trees/HYPER/p5/d1/\n",
      "/home/trevor/Documents/Osmotic_trees/HYPER/p5/d2/\n",
      "/home/trevor/Documents/Osmotic_trees/HYPER/p5/d3/\n",
      "/home/trevor/Documents/Osmotic_trees/HYPER/p5/d3/instances2645.data\n",
      "/home/trevor/Documents/Osmotic_trees/HYPER/p5/d3/instances2647.data\n",
      "/home/trevor/Documents/Osmotic_trees/HYPER/p5/d3/instances2649.data\n",
      "/home/trevor/Documents/Osmotic_trees/HYPER/p5/d3/instances2655.data\n",
      "/home/trevor/Documents/Osmotic_trees/HYPER/p5/d3/instances2657.data\n",
      "/home/trevor/Documents/Osmotic_trees/HYPER/p5/d3/instances2659.data\n",
      "/home/trevor/Documents/Osmotic_trees/HYPER/p5/d3/instances2660.data\n",
      "/home/trevor/Documents/Osmotic_trees/HYPER/p5/d3/instances2662.data\n",
      "/home/trevor/Documents/Osmotic_trees/HYPER/p5/d3/instances2664.data\n",
      "/home/trevor/Documents/Osmotic_trees/HYPER/p5/d3/instances2670.data\n",
      "/home/trevor/Documents/Osmotic_trees/HYPER/p5/d3/instances2672.data\n",
      "/home/trevor/Documents/Osmotic_trees/HYPER/p5/d3/instances2674.data\n",
      "/home/trevor/Documents/Osmotic_trees/HYPER/p5/d4/\n",
      "/home/trevor/Documents/Osmotic_trees/ISO/p1/\n",
      "/home/trevor/Documents/Osmotic_trees/ISO/p1/d1/\n",
      "/home/trevor/Documents/Osmotic_trees/ISO/p1/d1/instances327.data\n",
      "/home/trevor/Documents/Osmotic_trees/ISO/p1/d1/instances329.data\n",
      "/home/trevor/Documents/Osmotic_trees/ISO/p1/d1/instances333.data\n",
      "/home/trevor/Documents/Osmotic_trees/ISO/p1/d1/instances335.data\n",
      "/home/trevor/Documents/Osmotic_trees/ISO/p1/d1/instances336.data\n",
      "/home/trevor/Documents/Osmotic_trees/ISO/p1/d1/instances338.data\n",
      "/home/trevor/Documents/Osmotic_trees/ISO/p1/d1/instances342.data\n",
      "/home/trevor/Documents/Osmotic_trees/ISO/p1/d1/instances345.data\n",
      "/home/trevor/Documents/Osmotic_trees/ISO/p1/d2/\n",
      "/home/trevor/Documents/Osmotic_trees/ISO/p1/d3/\n",
      "/home/trevor/Documents/Osmotic_trees/ISO/p1/d4/\n",
      "/home/trevor/Documents/Osmotic_trees/ISO/p2/\n",
      "/home/trevor/Documents/Osmotic_trees/ISO/p2/d1/\n",
      "/home/trevor/Documents/Osmotic_trees/ISO/p2/d2/\n",
      "/home/trevor/Documents/Osmotic_trees/ISO/p2/d3/\n",
      "/home/trevor/Documents/Osmotic_trees/ISO/p2/d4/\n",
      "/home/trevor/Documents/Osmotic_trees/ISO/p2/d4/instances1035.data\n",
      "/home/trevor/Documents/Osmotic_trees/ISO/p2/d4/instances1037.data\n",
      "/home/trevor/Documents/Osmotic_trees/ISO/p2/d4/instances1039.data\n",
      "/home/trevor/Documents/Osmotic_trees/ISO/p2/d4/instances1045.data\n",
      "/home/trevor/Documents/Osmotic_trees/ISO/p2/d4/instances1047.data\n",
      "/home/trevor/Documents/Osmotic_trees/ISO/p2/d4/instances1049.data\n",
      "/home/trevor/Documents/Osmotic_trees/ISO/p2/d4/instances1050.data\n",
      "/home/trevor/Documents/Osmotic_trees/ISO/p2/d4/instances1052.data\n",
      "/home/trevor/Documents/Osmotic_trees/ISO/p2/d4/instances1054.data\n",
      "/home/trevor/Documents/Osmotic_trees/ISO/p2/d4/instances1060.data\n",
      "/home/trevor/Documents/Osmotic_trees/ISO/p2/d4/instances1062.data\n",
      "/home/trevor/Documents/Osmotic_trees/ISO/p2/d4/instances1064.data\n",
      "/home/trevor/Documents/Osmotic_trees/ISO/p3/\n",
      "/home/trevor/Documents/Osmotic_trees/ISO/p3/d1/\n",
      "/home/trevor/Documents/Osmotic_trees/ISO/p3/d2/\n",
      "/home/trevor/Documents/Osmotic_trees/ISO/p3/d3/\n",
      "/home/trevor/Documents/Osmotic_trees/ISO/p3/d3/instances1295.data\n",
      "/home/trevor/Documents/Osmotic_trees/ISO/p3/d3/instances1297.data\n",
      "/home/trevor/Documents/Osmotic_trees/ISO/p3/d3/instances1299.data\n",
      "/home/trevor/Documents/Osmotic_trees/ISO/p3/d3/instances1305.data\n",
      "/home/trevor/Documents/Osmotic_trees/ISO/p3/d3/instances1307.data\n",
      "/home/trevor/Documents/Osmotic_trees/ISO/p3/d3/instances1309.data\n",
      "/home/trevor/Documents/Osmotic_trees/ISO/p3/d3/instances1310.data\n",
      "/home/trevor/Documents/Osmotic_trees/ISO/p3/d3/instances1312.data\n",
      "/home/trevor/Documents/Osmotic_trees/ISO/p3/d3/instances1314.data\n",
      "/home/trevor/Documents/Osmotic_trees/ISO/p3/d3/instances1320.data\n",
      "/home/trevor/Documents/Osmotic_trees/ISO/p3/d3/instances1322.data\n",
      "/home/trevor/Documents/Osmotic_trees/ISO/p3/d3/instances1324.data\n",
      "/home/trevor/Documents/Osmotic_trees/ISO/p3/d4/\n",
      "/home/trevor/Documents/Osmotic_trees/ISO/p4/\n",
      "/home/trevor/Documents/Osmotic_trees/ISO/p4/d1/\n",
      "/home/trevor/Documents/Osmotic_trees/ISO/p4/d2/\n",
      "/home/trevor/Documents/Osmotic_trees/ISO/p4/d3/\n",
      "/home/trevor/Documents/Osmotic_trees/ISO/p4/d3/instances2050.data\n",
      "/home/trevor/Documents/Osmotic_trees/ISO/p4/d3/instances2052.data\n",
      "/home/trevor/Documents/Osmotic_trees/ISO/p4/d3/instances2054.data\n",
      "/home/trevor/Documents/Osmotic_trees/ISO/p4/d3/instances2060.data\n",
      "/home/trevor/Documents/Osmotic_trees/ISO/p4/d3/instances2062.data\n",
      "/home/trevor/Documents/Osmotic_trees/ISO/p4/d3/instances2064.data\n",
      "/home/trevor/Documents/Osmotic_trees/ISO/p4/d3/instances2065.data\n",
      "/home/trevor/Documents/Osmotic_trees/ISO/p4/d3/instances2067.data\n",
      "/home/trevor/Documents/Osmotic_trees/ISO/p4/d3/instances2069.data\n",
      "/home/trevor/Documents/Osmotic_trees/ISO/p4/d3/instances2075.data\n",
      "/home/trevor/Documents/Osmotic_trees/ISO/p4/d3/instances2077.data\n",
      "/home/trevor/Documents/Osmotic_trees/ISO/p4/d3/instances2079.data\n",
      "/home/trevor/Documents/Osmotic_trees/ISO/p4/d4/\n",
      "/home/trevor/Documents/Osmotic_trees/ISO/p5/\n",
      "/home/trevor/Documents/Osmotic_trees/ISO/p5/d1/\n",
      "/home/trevor/Documents/Osmotic_trees/ISO/p5/d2/\n",
      "/home/trevor/Documents/Osmotic_trees/ISO/p5/d3/\n",
      "/home/trevor/Documents/Osmotic_trees/ISO/p5/d3/instances2705.data\n",
      "/home/trevor/Documents/Osmotic_trees/ISO/p5/d3/instances2707.data\n",
      "/home/trevor/Documents/Osmotic_trees/ISO/p5/d3/instances2709.data\n",
      "/home/trevor/Documents/Osmotic_trees/ISO/p5/d3/instances2715.data\n",
      "/home/trevor/Documents/Osmotic_trees/ISO/p5/d3/instances2717.data\n",
      "/home/trevor/Documents/Osmotic_trees/ISO/p5/d3/instances2719.data\n",
      "/home/trevor/Documents/Osmotic_trees/ISO/p5/d3/instances2720.data\n",
      "/home/trevor/Documents/Osmotic_trees/ISO/p5/d3/instances2722.data\n",
      "/home/trevor/Documents/Osmotic_trees/ISO/p5/d3/instances2724.data\n",
      "/home/trevor/Documents/Osmotic_trees/ISO/p5/d3/instances2730.data\n",
      "/home/trevor/Documents/Osmotic_trees/ISO/p5/d3/instances2732.data\n",
      "/home/trevor/Documents/Osmotic_trees/ISO/p5/d3/instances2734.data\n",
      "/home/trevor/Documents/Osmotic_trees/ISO/p5/d4/\n",
      "/home/trevor/Documents/Osmotic_trees/HYPO/p1/\n",
      "/home/trevor/Documents/Osmotic_trees/HYPO/p1/d1/\n",
      "/home/trevor/Documents/Osmotic_trees/HYPO/p1/d1/instances0346.data\n",
      "/home/trevor/Documents/Osmotic_trees/HYPO/p1/d1/instances0348.data\n",
      "/home/trevor/Documents/Osmotic_trees/HYPO/p1/d1/instances0352.data\n",
      "/home/trevor/Documents/Osmotic_trees/HYPO/p1/d1/instances0357.data\n",
      "/home/trevor/Documents/Osmotic_trees/HYPO/p1/d1/instances0358.data\n",
      "/home/trevor/Documents/Osmotic_trees/HYPO/p1/d1/instances0360.data\n",
      "/home/trevor/Documents/Osmotic_trees/HYPO/p1/d1/instances0364.data\n",
      "/home/trevor/Documents/Osmotic_trees/HYPO/p1/d1/instances0366.data\n",
      "/home/trevor/Documents/Osmotic_trees/HYPO/p1/d2/\n",
      "/home/trevor/Documents/Osmotic_trees/HYPO/p1/d3/\n",
      "/home/trevor/Documents/Osmotic_trees/HYPO/p1/d4/\n",
      "/home/trevor/Documents/Osmotic_trees/HYPO/p2/\n",
      "/home/trevor/Documents/Osmotic_trees/HYPO/p2/d1/\n",
      "/home/trevor/Documents/Osmotic_trees/HYPO/p2/d2/\n",
      "/home/trevor/Documents/Osmotic_trees/HYPO/p2/d3/\n",
      "/home/trevor/Documents/Osmotic_trees/HYPO/p2/d4/\n",
      "/home/trevor/Documents/Osmotic_trees/HYPO/p2/d4/instances1005.data\n",
      "/home/trevor/Documents/Osmotic_trees/HYPO/p2/d4/instances1007.data\n",
      "/home/trevor/Documents/Osmotic_trees/HYPO/p2/d4/instances1009.data\n",
      "/home/trevor/Documents/Osmotic_trees/HYPO/p2/d4/instances1015.data\n",
      "/home/trevor/Documents/Osmotic_trees/HYPO/p2/d4/instances1017.data\n",
      "/home/trevor/Documents/Osmotic_trees/HYPO/p2/d4/instances1019.data\n",
      "/home/trevor/Documents/Osmotic_trees/HYPO/p2/d4/instances1020.data\n",
      "/home/trevor/Documents/Osmotic_trees/HYPO/p2/d4/instances1022.data\n",
      "/home/trevor/Documents/Osmotic_trees/HYPO/p2/d4/instances1024.data\n",
      "/home/trevor/Documents/Osmotic_trees/HYPO/p2/d4/instances1030.data\n",
      "/home/trevor/Documents/Osmotic_trees/HYPO/p2/d4/instances1032.data\n",
      "/home/trevor/Documents/Osmotic_trees/HYPO/p2/d4/instances1034.data\n",
      "/home/trevor/Documents/Osmotic_trees/HYPO/p3/\n",
      "/home/trevor/Documents/Osmotic_trees/HYPO/p3/d1/\n",
      "/home/trevor/Documents/Osmotic_trees/HYPO/p3/d2/\n",
      "/home/trevor/Documents/Osmotic_trees/HYPO/p3/d3/\n",
      "/home/trevor/Documents/Osmotic_trees/HYPO/p3/d3/instances1225.data\n",
      "/home/trevor/Documents/Osmotic_trees/HYPO/p3/d3/instances1227.data\n",
      "/home/trevor/Documents/Osmotic_trees/HYPO/p3/d3/instances1229.data\n",
      "/home/trevor/Documents/Osmotic_trees/HYPO/p3/d3/instances1235.data\n",
      "/home/trevor/Documents/Osmotic_trees/HYPO/p3/d3/instances1237.data\n",
      "/home/trevor/Documents/Osmotic_trees/HYPO/p3/d3/instances1239.data\n",
      "/home/trevor/Documents/Osmotic_trees/HYPO/p3/d3/instances1240.data\n",
      "/home/trevor/Documents/Osmotic_trees/HYPO/p3/d3/instances1242.data\n",
      "/home/trevor/Documents/Osmotic_trees/HYPO/p3/d3/instances1244.data\n",
      "/home/trevor/Documents/Osmotic_trees/HYPO/p3/d3/instances1250.data\n",
      "/home/trevor/Documents/Osmotic_trees/HYPO/p3/d3/instances1252.data\n",
      "/home/trevor/Documents/Osmotic_trees/HYPO/p3/d3/instances1254.data\n",
      "/home/trevor/Documents/Osmotic_trees/HYPO/p3/d4/\n",
      "/home/trevor/Documents/Osmotic_trees/HYPO/p4/\n",
      "/home/trevor/Documents/Osmotic_trees/HYPO/p4/d1/\n",
      "/home/trevor/Documents/Osmotic_trees/HYPO/p4/d2/\n",
      "/home/trevor/Documents/Osmotic_trees/HYPO/p4/d3/\n",
      "/home/trevor/Documents/Osmotic_trees/HYPO/p4/d3/instances2080.data\n",
      "/home/trevor/Documents/Osmotic_trees/HYPO/p4/d3/instances2082.data\n",
      "/home/trevor/Documents/Osmotic_trees/HYPO/p4/d3/instances2084.data\n",
      "/home/trevor/Documents/Osmotic_trees/HYPO/p4/d3/instances2090.data\n",
      "/home/trevor/Documents/Osmotic_trees/HYPO/p4/d3/instances2092.data\n",
      "/home/trevor/Documents/Osmotic_trees/HYPO/p4/d3/instances2094.data\n",
      "/home/trevor/Documents/Osmotic_trees/HYPO/p4/d3/instances2095.data\n",
      "/home/trevor/Documents/Osmotic_trees/HYPO/p4/d3/instances2097.data\n",
      "/home/trevor/Documents/Osmotic_trees/HYPO/p4/d3/instances2099.data\n",
      "/home/trevor/Documents/Osmotic_trees/HYPO/p4/d3/instances2105.data\n",
      "/home/trevor/Documents/Osmotic_trees/HYPO/p4/d3/instances2107.data\n",
      "/home/trevor/Documents/Osmotic_trees/HYPO/p4/d3/instances2109.data\n",
      "/home/trevor/Documents/Osmotic_trees/HYPO/p4/d4/\n",
      "/home/trevor/Documents/Osmotic_trees/HYPO/p5/\n",
      "/home/trevor/Documents/Osmotic_trees/HYPO/p5/d1/\n",
      "/home/trevor/Documents/Osmotic_trees/HYPO/p5/d2/\n",
      "/home/trevor/Documents/Osmotic_trees/HYPO/p5/d3/\n",
      "/home/trevor/Documents/Osmotic_trees/HYPO/p5/d3/instances2675.data\n",
      "/home/trevor/Documents/Osmotic_trees/HYPO/p5/d3/instances2677.data\n",
      "/home/trevor/Documents/Osmotic_trees/HYPO/p5/d3/instances2679.data\n",
      "/home/trevor/Documents/Osmotic_trees/HYPO/p5/d3/instances2685.data\n",
      "/home/trevor/Documents/Osmotic_trees/HYPO/p5/d3/instances2687.data\n",
      "/home/trevor/Documents/Osmotic_trees/HYPO/p5/d3/instances2689.data\n",
      "/home/trevor/Documents/Osmotic_trees/HYPO/p5/d3/instances2690.data\n",
      "/home/trevor/Documents/Osmotic_trees/HYPO/p5/d3/instances2692.data\n",
      "/home/trevor/Documents/Osmotic_trees/HYPO/p5/d3/instances2694.data\n",
      "/home/trevor/Documents/Osmotic_trees/HYPO/p5/d3/instances2700.data\n",
      "/home/trevor/Documents/Osmotic_trees/HYPO/p5/d3/instances2702.data\n",
      "/home/trevor/Documents/Osmotic_trees/HYPO/p5/d3/instances2704.data\n",
      "/home/trevor/Documents/Osmotic_trees/HYPO/p5/d4/\n"
     ]
    }
   ],
   "source": [
    "line_H = lineage('/home/trevor/Documents/Osmotic_trees/HYPER','hyper_tree')\n",
    "line_R = lineage('/home/trevor/Documents/Osmotic_trees/ISO','iso_tree')\n",
    "line_L = lineage('/home/trevor/Documents/Osmotic_trees/HYPO','hypo_tree')"
   ]
  },
  {
   "cell_type": "code",
   "execution_count": 50,
   "metadata": {},
   "outputs": [
    {
     "ename": "NameError",
     "evalue": "name 'line_H' is not defined",
     "output_type": "error",
     "traceback": [
      "\u001b[0;31m---------------------------------------------------------------------------\u001b[0m",
      "\u001b[0;31mNameError\u001b[0m                                 Traceback (most recent call last)",
      "\u001b[0;32m<ipython-input-50-84ef02db2556>\u001b[0m in \u001b[0;36m<module>\u001b[0;34m\u001b[0m\n\u001b[1;32m      3\u001b[0m \u001b[0maspectr_H\u001b[0m \u001b[0;34m=\u001b[0m \u001b[0;34m[\u001b[0m\u001b[0;34m]\u001b[0m\u001b[0;34m\u001b[0m\u001b[0;34m\u001b[0m\u001b[0m\n\u001b[1;32m      4\u001b[0m \u001b[0;34m\u001b[0m\u001b[0m\n\u001b[0;32m----> 5\u001b[0;31m \u001b[0;32mfor\u001b[0m \u001b[0mpnum\u001b[0m \u001b[0;32min\u001b[0m \u001b[0mline_H\u001b[0m\u001b[0;34m.\u001b[0m\u001b[0mitems\u001b[0m\u001b[0;34m:\u001b[0m\u001b[0;34m\u001b[0m\u001b[0;34m\u001b[0m\u001b[0m\n\u001b[0m\u001b[1;32m      6\u001b[0m \u001b[0;34m\u001b[0m\u001b[0m\n\u001b[1;32m      7\u001b[0m     \u001b[0mtemp_area\u001b[0m \u001b[0;34m=\u001b[0m \u001b[0;34m[\u001b[0m\u001b[0;34m]\u001b[0m\u001b[0;34m\u001b[0m\u001b[0;34m\u001b[0m\u001b[0m\n",
      "\u001b[0;31mNameError\u001b[0m: name 'line_H' is not defined"
     ]
    }
   ],
   "source": [
    "area_H = []\n",
    "circularity_H = []\n",
    "aspectr_H = []\n",
    "\n",
    "area = []\n",
    "circularity = []\n",
    "aspectr = []\n",
    "\n",
    "for pnum in line_H.items:\n",
    "    \n",
    "    temp_area = []\n",
    "    temp_circularity = []\n",
    "    temp_aspectr = []\n",
    "    for dnum in pnum:\n",
    "        for cell in dnum:\n",
    "            temp_area.append(cell.area)\n",
    "            temp_circularity.append(cell.circularity)\n",
    "            temp_aspectr.append(cell.majaxis/cell.minaxis)\n",
    "    area.append(temp_area)\n",
    "    circularity.append(temp_circularity)\n",
    "    aspectr.append(temp_aspectr)\n",
    "\n",
    "area_H = area\n",
    "circularity_H = circularity\n"
   ]
  },
  {
   "cell_type": "code",
   "execution_count": 49,
   "metadata": {},
   "outputs": [
    {
     "data": {
      "text/plain": [
       "2014"
      ]
     },
     "execution_count": 49,
     "metadata": {},
     "output_type": "execute_result"
    }
   ],
   "source": [
    "len(area_7[4])"
   ]
  },
  {
   "cell_type": "code",
   "execution_count": null,
   "metadata": {},
   "outputs": [],
   "source": [
    "#load model output into instances dict: \n",
    "instances = {}\n",
    "with open('instances335.data', 'rb') as filehandle:\n",
    "#with open('instances.data', 'rb') as filehandle:\n",
    "    instances = pickle.load(filehandle)\n",
    "    \n",
    "'''   \"pred_boxes\" \"pred_masks\" \"scores\" \"classes\"  \"image_size\" '''"
   ]
  },
  {
   "cell_type": "code",
   "execution_count": null,
   "metadata": {},
   "outputs": [],
   "source": [
    "bounding_boxes = np.array(instances['pred_boxes'])\n",
    "polygons = np.array(instances['pred_masks'])"
   ]
  },
  {
   "cell_type": "code",
   "execution_count": 529,
   "metadata": {},
   "outputs": [],
   "source": [
    "#RUN ONCE FOR EACH DISCREET SAMPLE\n",
    "cell_list = []"
   ]
  },
  {
   "cell_type": "code",
   "execution_count": 537,
   "metadata": {},
   "outputs": [
    {
     "name": "stdout",
     "output_type": "stream",
     "text": [
      "63\n",
      "190\n"
     ]
    }
   ],
   "source": [
    "#cell_list = []\n",
    "for i in range(len(instances['pred_boxes'])):\n",
    "    cell_list.append(cell_object(instances['pred_boxes'][i],instances['pred_masks'][i],instances['scores'][i]))\n",
    "print(len(instances['pred_boxes']))\n",
    "print(len(cell_list))"
   ]
  },
  {
   "cell_type": "code",
   "execution_count": null,
   "metadata": {},
   "outputs": [],
   "source": [
    "#RUN ONCE\n",
    "full_list = []"
   ]
  },
  {
   "cell_type": "code",
   "execution_count": 538,
   "metadata": {},
   "outputs": [
    {
     "name": "stdout",
     "output_type": "stream",
     "text": [
      "63\n",
      "3\n"
     ]
    }
   ],
   "source": [
    "#RUN ONCE FOR EACH DESCREET SAMPLE, AFTER CELL_LIST IS COMPLETE\n",
    "full_list.append(np.array(np.copy(cell_list)))\n",
    "print(len(instances['pred_boxes']))\n",
    "print(len(full_list))"
   ]
  },
  {
   "cell_type": "code",
   "execution_count": 505,
   "metadata": {},
   "outputs": [
    {
     "data": {
      "text/plain": [
       "85.6690475583121"
      ]
     },
     "execution_count": 505,
     "metadata": {},
     "output_type": "execute_result"
    }
   ],
   "source": [
    "full_list[0][0].perimeter"
   ]
  },
  {
   "cell_type": "code",
   "execution_count": null,
   "metadata": {},
   "outputs": [],
   "source": [
    "#PLOT AREA\n",
    "\n",
    "areas = [[cell.area for cell in cell_list] for cell_list in full_list]\n",
    "\n",
    "circularities = [[cell.circularity for cell in cell_list] for cell_list in full_list]\n",
    "\n",
    "major_axes = [[cell.majaxis for cell in cell_list] for cell_list in full_list]\n",
    "\n",
    "min_axes = [[cell.minaxis for cell in cell_list] for cell_list in full_list]"
   ]
  },
  {
   "cell_type": "code",
   "execution_count": null,
   "metadata": {},
   "outputs": [],
   "source": [
    "\n",
    "fig, ((ax1, ax2), (ax3, ax4)) = plt.subplots(2, 2, figsize=(16, 10))\n",
    "\n",
    "bp=ax1.boxplot(areas, notch = True)\n",
    "\n",
    "bp=ax2.boxplot(circularities)\n",
    "\n",
    "bp=ax3.boxplot(major_axes)\n",
    "\n",
    "bp=ax4.boxplot(min_axes)\n",
    "\n",
    "#   Hyper, Hypo, Iso"
   ]
  },
  {
   "cell_type": "code",
   "execution_count": 584,
   "metadata": {
    "collapsed": true,
    "jupyter": {
     "outputs_hidden": true
    }
   },
   "outputs": [
    {
     "data": {
      "image/png": "[encoded data removed]",
      "text/plain": [
       "<Figure size 648x432 with 1 Axes>"
      ]
     },
     "metadata": {
      "needs_background": "light"
     },
     "output_type": "display_data"
    }
   ],
   "source": [
    "fig=plt.figure(1,figsize=(9,6))\n",
    "ax2=fig.add_subplot(111)\n",
    "bp=ax2.boxplot(circularities)\n",
    "\n",
    "#   Hyper, Hypo, Iso"
   ]
  },
  {
   "cell_type": "code",
   "execution_count": 585,
   "metadata": {
    "collapsed": true,
    "jupyter": {
     "outputs_hidden": true
    }
   },
   "outputs": [
    {
     "data": {
      "image/png": "[encoded data removed]",
      "text/plain": [
       "<Figure size 648x432 with 1 Axes>"
      ]
     },
     "metadata": {
      "needs_background": "light"
     },
     "output_type": "display_data"
    }
   ],
   "source": [
    "fig=plt.figure(1,figsize=(9,6))\n",
    "ax2=fig.add_subplot(111)\n",
    "bp=ax2.boxplot(major_axes)\n",
    "\n",
    "#   Hyper, Hypo, Iso"
   ]
  },
  {
   "cell_type": "code",
   "execution_count": 586,
   "metadata": {
    "collapsed": true,
    "jupyter": {
     "outputs_hidden": true
    }
   },
   "outputs": [
    {
     "data": {
      "image/png": "[encoded data removed]",
      "text/plain": [
       "<Figure size 648x432 with 1 Axes>"
      ]
     },
     "metadata": {
      "needs_background": "light"
     },
     "output_type": "display_data"
    }
   ],
   "source": [
    "fig=plt.figure(1,figsize=(9,6))\n",
    "ax2=fig.add_subplot(111)\n",
    "bp=ax2.boxplot(min_axes)\n",
    "\n",
    "#   Hyper, Hypo, Iso"
   ]
  },
  {
   "cell_type": "code",
   "execution_count": 514,
   "metadata": {
    "collapsed": true,
    "jupyter": {
     "outputs_hidden": true
    }
   },
   "outputs": [
    {
     "data": {
      "image/png": "[encoded data removed]",
      "text/plain": [
       "<Figure size 432x288 with 1 Axes>"
      ]
     },
     "metadata": {
      "needs_background": "light"
     },
     "output_type": "display_data"
    }
   ],
   "source": [
    "heights = [1.8, 2, 3]\n",
    "bars = np.arange(len(heights))\n",
    "\n",
    "plt.figure()\n",
    "plt.bar(bars, heights, align='center')\n",
    "plt.ylim(0, 5)\n",
    "barplot_annotate_brackets(0, 1, .1, bars, heights)\n",
    "barplot_annotate_brackets(1, 2, .001, bars, heights)\n",
    "barplot_annotate_brackets(0, 2, 'p < 0.0075', bars, heights, dh=.2)"
   ]
  },
  {
   "cell_type": "code",
   "execution_count": 513,
   "metadata": {},
   "outputs": [],
   "source": [
    "def barplot_annotate_brackets(num1, num2, data, center, height, yerr=None, dh=.05, barh=.05, fs=None, maxasterix=None):\n",
    "    \"\"\" \n",
    "    Annotate barplot with p-values.\n",
    "\n",
    "    :param num1: number of left bar to put bracket over\n",
    "    :param num2: number of right bar to put bracket over\n",
    "    :param data: string to write or number for generating asterixes\n",
    "    :param center: centers of all bars (like plt.bar() input)\n",
    "    :param height: heights of all bars (like plt.bar() input)\n",
    "    :param yerr: yerrs of all bars (like plt.bar() input)\n",
    "    :param dh: height offset over bar / bar + yerr in axes coordinates (0 to 1)\n",
    "    :param barh: bar height in axes coordinates (0 to 1)\n",
    "    :param fs: font size\n",
    "    :param maxasterix: maximum number of asterixes to write (for very small p-values)\n",
    "    \"\"\"\n",
    "\n",
    "    if type(data) is str:\n",
    "        text = data\n",
    "    else:\n",
    "        # * is p < 0.05\n",
    "        # ** is p < 0.005\n",
    "        # *** is p < 0.0005\n",
    "        # etc.\n",
    "        text = ''\n",
    "        p = .05\n",
    "\n",
    "        while data < p:\n",
    "            text += '*'\n",
    "            p /= 10.\n",
    "\n",
    "            if maxasterix and len(text) == maxasterix:\n",
    "                break\n",
    "\n",
    "        if len(text) == 0:\n",
    "            text = 'n. s.'\n",
    "\n",
    "    lx, ly = center[num1], height[num1]\n",
    "    rx, ry = center[num2], height[num2]\n",
    "\n",
    "    if yerr:\n",
    "        ly += yerr[num1]\n",
    "        ry += yerr[num2]\n",
    "\n",
    "    ax_y0, ax_y1 = plt.gca().get_ylim()\n",
    "    dh *= (ax_y1 - ax_y0)\n",
    "    barh *= (ax_y1 - ax_y0)\n",
    "\n",
    "    y = max(ly, ry) + dh\n",
    "\n",
    "    barx = [lx, lx, rx, rx]\n",
    "    bary = [y, y+barh, y+barh, y]\n",
    "    mid = ((lx+rx)/2, y+barh)\n",
    "\n",
    "    plt.plot(barx, bary, c='black')\n",
    "\n",
    "    kwargs = dict(ha='center', va='bottom')\n",
    "    if fs is not None:\n",
    "        kwargs['fontsize'] = fs\n",
    "\n",
    "    plt.text(*mid, text, **kwargs)"
   ]
  },
  {
   "cell_type": "code",
   "execution_count": 455,
   "metadata": {},
   "outputs": [],
   "source": [
    "#calculate all masks\n",
    "bounding_boxes = np.array(instances['pred_boxes'])\n",
    "polygons = np.array(instances['pred_masks'])\n",
    "\n",
    "#masks = []\n",
    "#^Run cell above\n",
    "\n",
    "buffer = 5\n",
    "for i in range(len(bounding_boxes)):\n",
    "    width = int(abs(bounding_boxes[i][0]-bounding_boxes[i][2]))+2*buffer\n",
    "    height = int(abs(bounding_boxes[i][1]-bounding_boxes[i][3]))+2*buffer\n",
    "    polygon = np.copy(polygons[i])\n",
    "    polygon[0][0::2] = np.subtract(polygon[0][0::2], min(polygon[0][0::2])-buffer)\n",
    "    polygon[0][1::2] = np.subtract(polygon[0][1::2], min(polygon[0][1::2])-buffer)\n",
    "    #print(i,min(polygon[0][0::2].tolist()),polygon[0][0::2])\n",
    "    \n",
    "    \n",
    "    img = Image.new('1', (width, height), 0)\n",
    "    img1 = ImageDraw.Draw(img)\n",
    "    img1.polygon(polygon[0].tolist(), fill = 1, outline = 1)\n",
    "    #ImageDraw.Draw(img).polygon(polygon[0], outline=1, fill=1)\n",
    "    masks.append(np.array(img))\n",
    "    "
   ]
  },
  {
   "cell_type": "code",
   "execution_count": 581,
   "metadata": {},
   "outputs": [
    {
     "name": "stdout",
     "output_type": "stream",
     "text": [
      "343\n",
      "304\n"
     ]
    },
    {
     "data": {
      "text/plain": [
       "<matplotlib.image.AxesImage at 0x1498aaa10>"
      ]
     },
     "execution_count": 581,
     "metadata": {},
     "output_type": "execute_result"
    },
    {
     "data": {
      "image/png": "[encoded data removed]",
      "text/plain": [
       "<Figure size 432x288 with 1 Axes>"
      ]
     },
     "metadata": {
      "needs_background": "light"
     },
     "output_type": "display_data"
    }
   ],
   "source": [
    "#print(masks[0])\n",
    "print(len(masks))\n",
    "import random\n",
    "index = int(random.random()*len(masks))\n",
    "print(index)\n",
    "plt.imshow(masks[index])"
   ]
  },
  {
   "cell_type": "code",
   "execution_count": 543,
   "metadata": {},
   "outputs": [
    {
     "data": {
      "text/plain": [
       "array([ 684.72437, 1161.0521 ,  716.3465 , 1192.3954 ], dtype=float32)"
      ]
     },
     "execution_count": 543,
     "metadata": {},
     "output_type": "execute_result"
    }
   ],
   "source": [
    "np.array(instances['pred_boxes'][0])"
   ]
  },
  {
   "cell_type": "code",
   "execution_count": 244,
   "metadata": {},
   "outputs": [],
   "source": [
    "from skimage.measure import label, regionprops, find_contours, approximate_polygon\n"
   ]
  },
  {
   "cell_type": "code",
   "execution_count": 382,
   "metadata": {},
   "outputs": [
    {
     "data": {
      "text/plain": [
       "<matplotlib.image.AxesImage at 0x143277310>"
      ]
     },
     "execution_count": 382,
     "metadata": {},
     "output_type": "execute_result"
    },
    {
     "data": {
      "image/png": "[encoded data removed]",
      "text/plain": [
       "<Figure size 432x288 with 1 Axes>"
      ]
     },
     "metadata": {
      "needs_background": "light"
     },
     "output_type": "display_data"
    }
   ],
   "source": [
    "a = 379\n",
    "\n",
    "plt.imshow(masks[379])\n",
    "\n",
    "#newcell = cell_object(instances['pred_boxes'][a],instances['pred_masks'][a][0],instances['scores'][a])"
   ]
  },
  {
   "cell_type": "code",
   "execution_count": 354,
   "metadata": {},
   "outputs": [],
   "source": [
    "newcell = cell_object(instances['pred_boxes'][0],instances['pred_masks'][0][0],instances['scores'][0])"
   ]
  },
  {
   "cell_type": "code",
   "execution_count": 396,
   "metadata": {},
   "outputs": [],
   "source": [
    "#cell_list = [cell_object(instances['pred_boxes'][i],instances['pred_masks'][i][0],instances['scores'][i]) \n",
    "#             for i in range(len(instances['pred_boxes']))]\n",
    "\n",
    "cell_list = []\n",
    "for i in range(len(instances['pred_boxes'])):\n",
    "    cell_list.append(cell_object(instances['pred_boxes'][i],instances['pred_masks'][i],instances['scores'][i]))\n"
   ]
  },
  {
   "cell_type": "code",
   "execution_count": 398,
   "metadata": {},
   "outputs": [
    {
     "data": {
      "text/plain": [
       "446"
      ]
     },
     "execution_count": 398,
     "metadata": {},
     "output_type": "execute_result"
    }
   ],
   "source": [
    "len(cell_list)"
   ]
  },
  {
   "cell_type": "code",
   "execution_count": null,
   "metadata": {},
   "outputs": [],
   "source": []
  }
 ],
 "metadata": {
  "kernelspec": {
   "display_name": "Python 3",
   "language": "python",
   "name": "python3"
  },
  "language_info": {
   "codemirror_mode": {
    "name": "ipython",
    "version": 3
   },
   "file_extension": ".py",
   "mimetype": "text/x-python",
   "name": "python",
   "nbconvert_exporter": "python",
   "pygments_lexer": "ipython3",
   "version": "3.7.7"
  }
 },
 "nbformat": 4,
 "nbformat_minor": 4
}
