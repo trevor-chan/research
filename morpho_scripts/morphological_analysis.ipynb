{
 "cells": [
  {
   "cell_type": "code",
   "execution_count": 2,
   "metadata": {
    "colab": {
     "base_uri": "https://localhost:8080/",
     "height": 732
    },
    "colab_type": "code",
    "collapsed": true,
    "id": "dXRytDWT-rZr",
    "jupyter": {
     "outputs_hidden": true
    },
    "outputId": "ada7a68c-3df4-4fb9-b0d2-0ebde0198681"
   },
   "outputs": [
    {
     "name": "stdout",
     "output_type": "stream",
     "text": [
      "Requirement already satisfied: scikit-image in /Users/trevorchan/environments/virtual-window/lib/python3.7/site-packages (0.16.2)\n",
      "Requirement already satisfied: PyWavelets>=0.4.0 in /Users/trevorchan/environments/virtual-window/lib/python3.7/site-packages (from scikit-image) (1.1.1)\n",
      "Requirement already satisfied: scipy>=0.19.0 in /Users/trevorchan/environments/virtual-window/lib/python3.7/site-packages (from scikit-image) (1.4.1)\n",
      "Requirement already satisfied: pillow>=4.3.0 in /Users/trevorchan/environments/virtual-window/lib/python3.7/site-packages (from scikit-image) (7.0.0)\n",
      "Requirement already satisfied: networkx>=2.0 in /Users/trevorchan/environments/virtual-window/lib/python3.7/site-packages (from scikit-image) (2.4)\n",
      "Requirement already satisfied: matplotlib!=3.0.0,>=2.0.0 in /Users/trevorchan/environments/virtual-window/lib/python3.7/site-packages (from scikit-image) (3.2.0)\n",
      "Requirement already satisfied: imageio>=2.3.0 in /Users/trevorchan/environments/virtual-window/lib/python3.7/site-packages (from scikit-image) (2.8.0)\n",
      "Requirement already satisfied: numpy>=1.13.3 in /Users/trevorchan/environments/virtual-window/lib/python3.7/site-packages (from PyWavelets>=0.4.0->scikit-image) (1.18.1)\n",
      "Requirement already satisfied: decorator>=4.3.0 in /Users/trevorchan/environments/virtual-window/lib/python3.7/site-packages (from networkx>=2.0->scikit-image) (4.4.2)\n",
      "Requirement already satisfied: python-dateutil>=2.1 in /Users/trevorchan/environments/virtual-window/lib/python3.7/site-packages (from matplotlib!=3.0.0,>=2.0.0->scikit-image) (2.8.1)\n",
      "Requirement already satisfied: pyparsing!=2.0.4,!=2.1.2,!=2.1.6,>=2.0.1 in /Users/trevorchan/environments/virtual-window/lib/python3.7/site-packages (from matplotlib!=3.0.0,>=2.0.0->scikit-image) (2.4.6)\n",
      "Requirement already satisfied: kiwisolver>=1.0.1 in /Users/trevorchan/environments/virtual-window/lib/python3.7/site-packages (from matplotlib!=3.0.0,>=2.0.0->scikit-image) (1.1.0)\n",
      "Requirement already satisfied: cycler>=0.10 in /Users/trevorchan/environments/virtual-window/lib/python3.7/site-packages (from matplotlib!=3.0.0,>=2.0.0->scikit-image) (0.10.0)\n",
      "Requirement already satisfied: six>=1.5 in /Users/trevorchan/environments/virtual-window/lib/python3.7/site-packages (from python-dateutil>=2.1->matplotlib!=3.0.0,>=2.0.0->scikit-image) (1.14.0)\n",
      "Requirement already satisfied: setuptools in /Users/trevorchan/environments/virtual-window/lib/python3.7/site-packages (from kiwisolver>=1.0.1->matplotlib!=3.0.0,>=2.0.0->scikit-image) (46.0.0)\n",
      "\u001b[33mWARNING: You are using pip version 20.0.2; however, version 20.1.1 is available.\n",
      "You should consider upgrading via the '/Users/trevorchan/environments/virtual-window/bin/python3 -m pip install --upgrade pip' command.\u001b[0m\n",
      "Requirement already satisfied: sklearn in /Users/trevorchan/environments/virtual-window/lib/python3.7/site-packages (0.0)\n",
      "Requirement already satisfied: scikit-learn in /Users/trevorchan/environments/virtual-window/lib/python3.7/site-packages (from sklearn) (0.23.1)\n",
      "Requirement already satisfied: numpy>=1.13.3 in /Users/trevorchan/environments/virtual-window/lib/python3.7/site-packages (from scikit-learn->sklearn) (1.18.1)\n",
      "Requirement already satisfied: threadpoolctl>=2.0.0 in /Users/trevorchan/environments/virtual-window/lib/python3.7/site-packages (from scikit-learn->sklearn) (2.1.0)\n",
      "Requirement already satisfied: joblib>=0.11 in /Users/trevorchan/environments/virtual-window/lib/python3.7/site-packages (from scikit-learn->sklearn) (0.15.1)\n",
      "Requirement already satisfied: scipy>=0.19.1 in /Users/trevorchan/environments/virtual-window/lib/python3.7/site-packages (from scikit-learn->sklearn) (1.4.1)\n",
      "\u001b[33mWARNING: You are using pip version 20.0.2; however, version 20.1.1 is available.\n",
      "You should consider upgrading via the '/Users/trevorchan/environments/virtual-window/bin/python3 -m pip install --upgrade pip' command.\u001b[0m\n",
      "Requirement already satisfied: scipy in /Users/trevorchan/environments/virtual-window/lib/python3.7/site-packages (1.4.1)\n",
      "Requirement already satisfied: numpy>=1.13.3 in /Users/trevorchan/environments/virtual-window/lib/python3.7/site-packages (from scipy) (1.18.1)\n",
      "\u001b[33mWARNING: You are using pip version 20.0.2; however, version 20.1.1 is available.\n",
      "You should consider upgrading via the '/Users/trevorchan/environments/virtual-window/bin/python3 -m pip install --upgrade pip' command.\u001b[0m\n",
      "Requirement already satisfied: hdbscan in /Users/trevorchan/environments/virtual-window/lib/python3.7/site-packages (0.8.26)\n",
      "Requirement already satisfied: scipy>=0.9 in /Users/trevorchan/environments/virtual-window/lib/python3.7/site-packages (from hdbscan) (1.4.1)\n",
      "Requirement already satisfied: scikit-learn>=0.17 in /Users/trevorchan/environments/virtual-window/lib/python3.7/site-packages (from hdbscan) (0.23.1)\n",
      "Requirement already satisfied: numpy>=1.16.0 in /Users/trevorchan/environments/virtual-window/lib/python3.7/site-packages (from hdbscan) (1.18.1)\n",
      "Requirement already satisfied: cython>=0.27 in /Users/trevorchan/environments/virtual-window/lib/python3.7/site-packages (from hdbscan) (0.29.19)\n",
      "Requirement already satisfied: six in /Users/trevorchan/environments/virtual-window/lib/python3.7/site-packages (from hdbscan) (1.14.0)\n",
      "Requirement already satisfied: joblib in /Users/trevorchan/environments/virtual-window/lib/python3.7/site-packages (from hdbscan) (0.15.1)\n",
      "Requirement already satisfied: threadpoolctl>=2.0.0 in /Users/trevorchan/environments/virtual-window/lib/python3.7/site-packages (from scikit-learn>=0.17->hdbscan) (2.1.0)\n",
      "\u001b[33mWARNING: You are using pip version 20.0.2; however, version 20.1.1 is available.\n",
      "You should consider upgrading via the '/Users/trevorchan/environments/virtual-window/bin/python3 -m pip install --upgrade pip' command.\u001b[0m\n",
      "Collecting seaborn\n",
      "  Downloading seaborn-0.10.1-py3-none-any.whl (215 kB)\n",
      "\u001b[K     |████████████████████████████████| 215 kB 1.7 MB/s eta 0:00:01\n",
      "\u001b[?25hRequirement already satisfied: scipy>=1.0.1 in /Users/trevorchan/environments/virtual-window/lib/python3.7/site-packages (from seaborn) (1.4.1)\n",
      "Requirement already satisfied: numpy>=1.13.3 in /Users/trevorchan/environments/virtual-window/lib/python3.7/site-packages (from seaborn) (1.18.1)\n",
      "Collecting pandas>=0.22.0\n",
      "  Downloading pandas-1.0.4-cp37-cp37m-macosx_10_9_x86_64.whl (10.0 MB)\n",
      "\u001b[K     |████████████████████████████████| 10.0 MB 16.5 MB/s eta 0:00:01    |█▊                              | 542 kB 16.5 MB/s eta 0:00:01     |██████████████████████████████▊ | 9.6 MB 16.5 MB/s eta 0:00:01\n",
      "\u001b[?25hRequirement already satisfied: matplotlib>=2.1.2 in /Users/trevorchan/environments/virtual-window/lib/python3.7/site-packages (from seaborn) (3.2.0)\n",
      "Requirement already satisfied: python-dateutil>=2.6.1 in /Users/trevorchan/environments/virtual-window/lib/python3.7/site-packages (from pandas>=0.22.0->seaborn) (2.8.1)\n",
      "Collecting pytz>=2017.2\n",
      "  Downloading pytz-2020.1-py2.py3-none-any.whl (510 kB)\n",
      "\u001b[K     |████████████████████████████████| 510 kB 30.4 MB/s eta 0:00:01\n",
      "\u001b[?25hRequirement already satisfied: kiwisolver>=1.0.1 in /Users/trevorchan/environments/virtual-window/lib/python3.7/site-packages (from matplotlib>=2.1.2->seaborn) (1.1.0)\n",
      "Requirement already satisfied: cycler>=0.10 in /Users/trevorchan/environments/virtual-window/lib/python3.7/site-packages (from matplotlib>=2.1.2->seaborn) (0.10.0)\n",
      "Requirement already satisfied: pyparsing!=2.0.4,!=2.1.2,!=2.1.6,>=2.0.1 in /Users/trevorchan/environments/virtual-window/lib/python3.7/site-packages (from matplotlib>=2.1.2->seaborn) (2.4.6)\n",
      "Requirement already satisfied: six>=1.5 in /Users/trevorchan/environments/virtual-window/lib/python3.7/site-packages (from python-dateutil>=2.6.1->pandas>=0.22.0->seaborn) (1.14.0)\n",
      "Requirement already satisfied: setuptools in /Users/trevorchan/environments/virtual-window/lib/python3.7/site-packages (from kiwisolver>=1.0.1->matplotlib>=2.1.2->seaborn) (46.0.0)\n",
      "Installing collected packages: pytz, pandas, seaborn\n",
      "Successfully installed pandas-1.0.4 pytz-2020.1 seaborn-0.10.1\n",
      "\u001b[33mWARNING: You are using pip version 20.0.2; however, version 20.1.1 is available.\n",
      "You should consider upgrading via the '/Users/trevorchan/environments/virtual-window/bin/python3 -m pip install --upgrade pip' command.\u001b[0m\n"
     ]
    }
   ],
   "source": [
    "!pip install scikit-image\n",
    "!pip install sklearn\n",
    "!pip install scipy\n",
    "!pip install hdbscan\n",
    "!pip install seaborn"
   ]
  },
  {
   "cell_type": "code",
   "execution_count": 3,
   "metadata": {
    "colab": {
     "base_uri": "https://localhost:8080/",
     "height": 72
    },
    "colab_type": "code",
    "id": "Ee6ktmdg9CEU",
    "outputId": "37ca1cd3-316d-4ae8-d3f1-425e4aeccc61"
   },
   "outputs": [],
   "source": [
    "import sys\n",
    "import math\n",
    "import matplotlib.pyplot as plt\n",
    "import numpy as np\n",
    "import glob\n",
    "import os\n",
    "import seaborn as sns\n",
    "\n",
    "from PIL import Image\n",
    "from skimage.draw import ellipse\n",
    "from skimage.measure import label, regionprops, find_contours, approximate_polygon\n",
    "from skimage.transform import rotate\n",
    "from sklearn.neighbors import KDTree\n",
    "from scipy.spatial import distance\n",
    "\n",
    "from sklearn.cluster import DBSCAN\n",
    "import hdbscan\n",
    "\n",
    "### Uses numpy, skimage, pillow"
   ]
  },
  {
   "cell_type": "code",
   "execution_count": 4,
   "metadata": {
    "colab": {},
    "colab_type": "code",
    "id": "keHlyKWM9CEf"
   },
   "outputs": [],
   "source": [
    "class cell_poly:\n",
    "    #centroid as a 1x2 tuple (x,y)\n",
    "    #polygon as a list of 1x2 tuples (x,y)\n",
    "    def __init__(self, centroid, polygon):\n",
    "        self.centroid = centroid\n",
    "        self.polygon = polygon"
   ]
  },
  {
   "cell_type": "code",
   "execution_count": 5,
   "metadata": {
    "colab": {},
    "colab_type": "code",
    "id": "1XZ16VIE9CEu"
   },
   "outputs": [],
   "source": [
    "def cell_poly_properties(img):\n",
    "    #takes in an array of a binary mask\n",
    "    #finds all cell centroids and polygonal borders in a given mask\n",
    "    #returns a cell array of user defined objects\n",
    "    \n",
    "    \n",
    "    img = np.invert(img)\n",
    "    img = label(img)\n",
    "    regions = regionprops(img)\n",
    "    \n",
    "    # SUGGESTED\n",
    "    #boundary = [approximate_polygon (contour, tolerance=1) for contour in \n",
    "    #            find_contours(img, 1, fully_connected='high')]\n",
    "    '''\n",
    "    boundary = []\n",
    "    for i,contour in enumerate(find_contours(img, 0)):\n",
    "        boundary[i] = approximate_polygon(contour, tolerance = 1)\n",
    "    '''\n",
    "    \n",
    "    # SUGGESTED\n",
    "    #print(len(boundary))\n",
    "    print(len(regions))\n",
    "    #cell_poly_list = [cell_poly (regions[i].centroid, boundary[i]) for i in range (0, len(boundary))]\n",
    "    cell_poly_list = [cell_poly (regions[i].centroid, regions[i].centroid) for i in range (0, len(regions))]\n",
    "    '''\n",
    "    cell_poly_list = []\n",
    "    for i,contour in enumerate(boundary):\n",
    "        cell_poly_list[i] = cell_poly(regions[i].centroid, contour)\n",
    "    '''\n",
    "    return cell_poly_list"
   ]
  },
  {
   "cell_type": "code",
   "execution_count": 6,
   "metadata": {
    "colab": {},
    "colab_type": "code",
    "id": "lOE-CloF9CE2"
   },
   "outputs": [],
   "source": [
    "def make_adjacencies(clist, mindist):\n",
    "    #takes a list of n cell_poly objects\n",
    "    #takes a minimum distance defined as adjacent\n",
    "    #returns an adjacency list of length n\n",
    "    \n",
    "    centroid_list = []\n",
    "    adjacency_list = []\n",
    "    wide_list = []\n",
    "    \n",
    "    centroid_list = [cell.centroid for cell in clist]\n",
    "    print(len(centroid_list))\n",
    "    centroid_list = np.array(centroid_list)\n",
    "    print(type(centroid_list))\n",
    "    '''\n",
    "    for i,cell in enumerate(clist):\n",
    "        centroid_list[i] = cell.centroid\n",
    "    '''\n",
    "    tree = []\n",
    "    tree = KDTree(centroid_list, leaf_size=10)\n",
    "    \n",
    "    wide_list = [tree.query_radius(center, mindist*10) for center in centroid_list]\n",
    "    \n",
    "    for i,small_list in enumerate(wide_list):\n",
    "        adjacency_list.append (list())\n",
    "        for index in small_list:\n",
    "            # if we've already explored this pair then skip (as cdist _should_ be symmetrical)\n",
    "            if index <= i:\n",
    "                continue\n",
    "            d = distance.cdist(clist[i].polygon,clist[index].polygon,'euclidean')\n",
    "            if min(d) < mindist:\n",
    "                adjacency_list[i].append (index)\n",
    "    \n",
    "    # TODO: correct all singly-matched pairs (which should be all of them)\n",
    "    return adjacency_list"
   ]
  },
  {
   "cell_type": "code",
   "execution_count": null,
   "metadata": {
    "colab": {},
    "colab_type": "code",
    "id": "IlJS7DGV0Gvv"
   },
   "outputs": [],
   "source": []
  },
  {
   "cell_type": "code",
   "execution_count": 7,
   "metadata": {
    "colab": {},
    "colab_type": "code",
    "id": "nX5Yvr0P9CE8"
   },
   "outputs": [],
   "source": [
    "def HDB_cluster(centroids_list, min_size):\n",
    "    clusterer = hdbscan.HDBSCAN(min_cluster_size=min_size)\n",
    "    cluster_labels = clusterer.fit_predict(centroids_list)\n",
    "    #hierarchy = clusterer.cluster_hierarchy_\n",
    "    #alt_labels = hierarchy.get_clusters(0.100, 5)\n",
    "    #hierarchy.plot()\n",
    "    #return (cluster_labels,hierarchy,alt_labels)\n",
    "\n",
    "    '''\n",
    "    clusterer.minimum_spanning_tree_.plot(edge_cmap='viridis', \n",
    "                                      edge_alpha=0.6, \n",
    "                                      node_size=80, \n",
    "                                      edge_linewidth=2)\n",
    "    '''\n",
    "    \n",
    "    clusterer.single_linkage_tree_.plot(cmap='viridis', colorbar=True)\n",
    "    plt.show()\n",
    "    #plot_clusters(data, hdbscan.HDBSCAN, (), {'min_cluster_size':15})\n",
    "    clusterer.condensed_tree_.plot()\n",
    "\n",
    "\n",
    "    plt.show()\n",
    "\n",
    "    palette = sns.color_palette()\n",
    "    cluster_colors = [sns.desaturate(palette[col], sat) \n",
    "                      if col >= 0 else (0.5, 0.5, 0.5) for col, sat in \n",
    "                      zip(clusterer.labels_, clusterer.probabilities_)]\n",
    "    xlist = [centroid[0] for centroid in centroids_list]\n",
    "    ylist = [centroid[1] for centroid in centroids_list]\n",
    "\n",
    "    ax = plt.gca()\n",
    "    ax.invert_yaxis()\n",
    "    plt.scatter(ylist, xlist, c=cluster_colors, alpha = .5)\n",
    "\n",
    "\n",
    "    return (cluster_labels)\n",
    "    \n",
    "    "
   ]
  },
  {
   "cell_type": "code",
   "execution_count": 8,
   "metadata": {
    "colab": {},
    "colab_type": "code",
    "id": "uFxnVpkBvCI5"
   },
   "outputs": [
    {
     "data": {
      "text/plain": [
       "'\\ndef DB_cluster(centroids_list,min_size,epsilon):\\n  clustering = DBSCAN(eps=epsilon, min_samples=min_size).fit(centroids_list)\\n  #clustering.labels_\\n  palette = sns.color_palette()\\n  cluster_colors = [sns.desaturate(palette[col], sat) \\n    if col >= 0 else (0.5, 0.5, 0.5) for col, sat in clustering.labels_]\\n  xlist = [centroid[0] for centroid in centroids_list]\\n  ylist = [centroid[1] for centroid in centroids_list]\\n'"
      ]
     },
     "execution_count": 8,
     "metadata": {},
     "output_type": "execute_result"
    }
   ],
   "source": [
    "'''\n",
    "def DB_cluster(centroids_list,min_size,epsilon):\n",
    "  clustering = DBSCAN(eps=epsilon, min_samples=min_size).fit(centroids_list)\n",
    "  #clustering.labels_\n",
    "  palette = sns.color_palette()\n",
    "  cluster_colors = [sns.desaturate(palette[col], sat) \n",
    "    if col >= 0 else (0.5, 0.5, 0.5) for col, sat in clustering.labels_]\n",
    "  xlist = [centroid[0] for centroid in centroids_list]\n",
    "  ylist = [centroid[1] for centroid in centroids_list]\n",
    "'''"
   ]
  },
  {
   "cell_type": "code",
   "execution_count": 12,
   "metadata": {
    "colab": {
     "base_uri": "https://localhost:8080/",
     "height": 730
    },
    "colab_type": "code",
    "collapsed": true,
    "id": "fWibsH7y9CFC",
    "jupyter": {
     "outputs_hidden": true
    },
    "outputId": "62f51d71-684f-4dc1-9210-6afc16acffe5"
   },
   "outputs": [
    {
     "name": "stdout",
     "output_type": "stream",
     "text": [
      "1498\n",
      "1498\n",
      "<class 'numpy.ndarray'>\n"
     ]
    },
    {
     "ename": "ValueError",
     "evalue": "Expected 2D array, got 1D array instead:\narray=[21.25738397 97.87341772].\nReshape your data either using array.reshape(-1, 1) if your data has a single feature or array.reshape(1, -1) if it contains a single sample.",
     "output_type": "error",
     "traceback": [
      "\u001b[0;31m---------------------------------------------------------------------------\u001b[0m",
      "\u001b[0;31mValueError\u001b[0m                                Traceback (most recent call last)",
      "\u001b[0;32m<ipython-input-12-bdbf63475b44>\u001b[0m in \u001b[0;36m<module>\u001b[0;34m\u001b[0m\n\u001b[1;32m     13\u001b[0m \u001b[0mimg\u001b[0m \u001b[0;34m=\u001b[0m \u001b[0masarray\u001b[0m\u001b[0;34m(\u001b[0m\u001b[0mImage\u001b[0m\u001b[0;34m.\u001b[0m\u001b[0mopen\u001b[0m\u001b[0;34m(\u001b[0m\u001b[0mimage_path\u001b[0m\u001b[0;34m)\u001b[0m\u001b[0;34m)\u001b[0m\u001b[0;34m\u001b[0m\u001b[0;34m\u001b[0m\u001b[0m\n\u001b[1;32m     14\u001b[0m \u001b[0mclist\u001b[0m \u001b[0;34m=\u001b[0m \u001b[0mcell_poly_properties\u001b[0m\u001b[0;34m(\u001b[0m\u001b[0mimg\u001b[0m\u001b[0;34m)\u001b[0m\u001b[0;34m\u001b[0m\u001b[0;34m\u001b[0m\u001b[0m\n\u001b[0;32m---> 15\u001b[0;31m \u001b[0madj_list\u001b[0m \u001b[0;34m=\u001b[0m \u001b[0mmake_adjacencies\u001b[0m\u001b[0;34m(\u001b[0m\u001b[0mclist\u001b[0m\u001b[0;34m,\u001b[0m \u001b[0;36m10\u001b[0m\u001b[0;34m)\u001b[0m\u001b[0;34m\u001b[0m\u001b[0;34m\u001b[0m\u001b[0m\n\u001b[0m",
      "\u001b[0;32m<ipython-input-6-6ea01e3b1352>\u001b[0m in \u001b[0;36mmake_adjacencies\u001b[0;34m(clist, mindist)\u001b[0m\n\u001b[1;32m     19\u001b[0m     \u001b[0mtree\u001b[0m \u001b[0;34m=\u001b[0m \u001b[0mKDTree\u001b[0m\u001b[0;34m(\u001b[0m\u001b[0mcentroid_list\u001b[0m\u001b[0;34m,\u001b[0m \u001b[0mleaf_size\u001b[0m\u001b[0;34m=\u001b[0m\u001b[0;36m10\u001b[0m\u001b[0;34m)\u001b[0m\u001b[0;34m\u001b[0m\u001b[0;34m\u001b[0m\u001b[0m\n\u001b[1;32m     20\u001b[0m \u001b[0;34m\u001b[0m\u001b[0m\n\u001b[0;32m---> 21\u001b[0;31m     \u001b[0mwide_list\u001b[0m \u001b[0;34m=\u001b[0m \u001b[0;34m[\u001b[0m\u001b[0mtree\u001b[0m\u001b[0;34m.\u001b[0m\u001b[0mquery_radius\u001b[0m\u001b[0;34m(\u001b[0m\u001b[0mcenter\u001b[0m\u001b[0;34m,\u001b[0m \u001b[0mmindist\u001b[0m\u001b[0;34m*\u001b[0m\u001b[0;36m10\u001b[0m\u001b[0;34m)\u001b[0m \u001b[0;32mfor\u001b[0m \u001b[0mcenter\u001b[0m \u001b[0;32min\u001b[0m \u001b[0mcentroid_list\u001b[0m\u001b[0;34m]\u001b[0m\u001b[0;34m\u001b[0m\u001b[0;34m\u001b[0m\u001b[0m\n\u001b[0m\u001b[1;32m     22\u001b[0m \u001b[0;34m\u001b[0m\u001b[0m\n\u001b[1;32m     23\u001b[0m     \u001b[0;32mfor\u001b[0m \u001b[0mi\u001b[0m\u001b[0;34m,\u001b[0m\u001b[0msmall_list\u001b[0m \u001b[0;32min\u001b[0m \u001b[0menumerate\u001b[0m\u001b[0;34m(\u001b[0m\u001b[0mwide_list\u001b[0m\u001b[0;34m)\u001b[0m\u001b[0;34m:\u001b[0m\u001b[0;34m\u001b[0m\u001b[0;34m\u001b[0m\u001b[0m\n",
      "\u001b[0;32m<ipython-input-6-6ea01e3b1352>\u001b[0m in \u001b[0;36m<listcomp>\u001b[0;34m(.0)\u001b[0m\n\u001b[1;32m     19\u001b[0m     \u001b[0mtree\u001b[0m \u001b[0;34m=\u001b[0m \u001b[0mKDTree\u001b[0m\u001b[0;34m(\u001b[0m\u001b[0mcentroid_list\u001b[0m\u001b[0;34m,\u001b[0m \u001b[0mleaf_size\u001b[0m\u001b[0;34m=\u001b[0m\u001b[0;36m10\u001b[0m\u001b[0;34m)\u001b[0m\u001b[0;34m\u001b[0m\u001b[0;34m\u001b[0m\u001b[0m\n\u001b[1;32m     20\u001b[0m \u001b[0;34m\u001b[0m\u001b[0m\n\u001b[0;32m---> 21\u001b[0;31m     \u001b[0mwide_list\u001b[0m \u001b[0;34m=\u001b[0m \u001b[0;34m[\u001b[0m\u001b[0mtree\u001b[0m\u001b[0;34m.\u001b[0m\u001b[0mquery_radius\u001b[0m\u001b[0;34m(\u001b[0m\u001b[0mcenter\u001b[0m\u001b[0;34m,\u001b[0m \u001b[0mmindist\u001b[0m\u001b[0;34m*\u001b[0m\u001b[0;36m10\u001b[0m\u001b[0;34m)\u001b[0m \u001b[0;32mfor\u001b[0m \u001b[0mcenter\u001b[0m \u001b[0;32min\u001b[0m \u001b[0mcentroid_list\u001b[0m\u001b[0;34m]\u001b[0m\u001b[0;34m\u001b[0m\u001b[0;34m\u001b[0m\u001b[0m\n\u001b[0m\u001b[1;32m     22\u001b[0m \u001b[0;34m\u001b[0m\u001b[0m\n\u001b[1;32m     23\u001b[0m     \u001b[0;32mfor\u001b[0m \u001b[0mi\u001b[0m\u001b[0;34m,\u001b[0m\u001b[0msmall_list\u001b[0m \u001b[0;32min\u001b[0m \u001b[0menumerate\u001b[0m\u001b[0;34m(\u001b[0m\u001b[0mwide_list\u001b[0m\u001b[0;34m)\u001b[0m\u001b[0;34m:\u001b[0m\u001b[0;34m\u001b[0m\u001b[0;34m\u001b[0m\u001b[0m\n",
      "\u001b[0;32msklearn/neighbors/_binary_tree.pxi\u001b[0m in \u001b[0;36msklearn.neighbors._kd_tree.BinaryTree.query_radius\u001b[0;34m()\u001b[0m\n",
      "\u001b[0;32m~/environments/virtual-window/lib/python3.7/site-packages/sklearn/utils/validation.py\u001b[0m in \u001b[0;36minner_f\u001b[0;34m(*args, **kwargs)\u001b[0m\n\u001b[1;32m     71\u001b[0m                           FutureWarning)\n\u001b[1;32m     72\u001b[0m         \u001b[0mkwargs\u001b[0m\u001b[0;34m.\u001b[0m\u001b[0mupdate\u001b[0m\u001b[0;34m(\u001b[0m\u001b[0;34m{\u001b[0m\u001b[0mk\u001b[0m\u001b[0;34m:\u001b[0m \u001b[0marg\u001b[0m \u001b[0;32mfor\u001b[0m \u001b[0mk\u001b[0m\u001b[0;34m,\u001b[0m \u001b[0marg\u001b[0m \u001b[0;32min\u001b[0m \u001b[0mzip\u001b[0m\u001b[0;34m(\u001b[0m\u001b[0msig\u001b[0m\u001b[0;34m.\u001b[0m\u001b[0mparameters\u001b[0m\u001b[0;34m,\u001b[0m \u001b[0margs\u001b[0m\u001b[0;34m)\u001b[0m\u001b[0;34m}\u001b[0m\u001b[0;34m)\u001b[0m\u001b[0;34m\u001b[0m\u001b[0;34m\u001b[0m\u001b[0m\n\u001b[0;32m---> 73\u001b[0;31m         \u001b[0;32mreturn\u001b[0m \u001b[0mf\u001b[0m\u001b[0;34m(\u001b[0m\u001b[0;34m**\u001b[0m\u001b[0mkwargs\u001b[0m\u001b[0;34m)\u001b[0m\u001b[0;34m\u001b[0m\u001b[0;34m\u001b[0m\u001b[0m\n\u001b[0m\u001b[1;32m     74\u001b[0m     \u001b[0;32mreturn\u001b[0m \u001b[0minner_f\u001b[0m\u001b[0;34m\u001b[0m\u001b[0;34m\u001b[0m\u001b[0m\n\u001b[1;32m     75\u001b[0m \u001b[0;34m\u001b[0m\u001b[0m\n",
      "\u001b[0;32m~/environments/virtual-window/lib/python3.7/site-packages/sklearn/utils/validation.py\u001b[0m in \u001b[0;36mcheck_array\u001b[0;34m(array, accept_sparse, accept_large_sparse, dtype, order, copy, force_all_finite, ensure_2d, allow_nd, ensure_min_samples, ensure_min_features, estimator)\u001b[0m\n\u001b[1;32m    622\u001b[0m                     \u001b[0;34m\"Reshape your data either using array.reshape(-1, 1) if \"\u001b[0m\u001b[0;34m\u001b[0m\u001b[0;34m\u001b[0m\u001b[0m\n\u001b[1;32m    623\u001b[0m                     \u001b[0;34m\"your data has a single feature or array.reshape(1, -1) \"\u001b[0m\u001b[0;34m\u001b[0m\u001b[0;34m\u001b[0m\u001b[0m\n\u001b[0;32m--> 624\u001b[0;31m                     \"if it contains a single sample.\".format(array))\n\u001b[0m\u001b[1;32m    625\u001b[0m \u001b[0;34m\u001b[0m\u001b[0m\n\u001b[1;32m    626\u001b[0m         \u001b[0;31m# in the future np.flexible dtypes will be handled like object dtypes\u001b[0m\u001b[0;34m\u001b[0m\u001b[0;34m\u001b[0m\u001b[0;34m\u001b[0m\u001b[0m\n",
      "\u001b[0;31mValueError\u001b[0m: Expected 2D array, got 1D array instead:\narray=[21.25738397 97.87341772].\nReshape your data either using array.reshape(-1, 1) if your data has a single feature or array.reshape(1, -1) if it contains a single sample."
     ]
    }
   ],
   "source": [
    "#driver\n",
    "\n",
    "'''\n",
    "images[]\n",
    "for image_path in glob.glob(sys.argv[1] + '/*.png'): #filepath of folder\n",
    "    #print(image_path)\n",
    "    img = Image.open(image_path)\n",
    "    images.append(asarray(img))\n",
    "'''\n",
    "#read in a list of polygons and bounding boxes\n",
    "#or (temporary) a binary image\n",
    "image_path = 'HighConfluencyTrain3_InProgress.png'\n",
    "img = np.array(Image.open(image_path))\n",
    "clist = cell_poly_properties(img)\n",
    "adj_list = make_adjacencies(clist, 10)\n"
   ]
  },
  {
   "cell_type": "code",
   "execution_count": 28,
   "metadata": {
    "colab": {
     "base_uri": "https://localhost:8080/",
     "height": 643
    },
    "colab_type": "code",
    "collapsed": true,
    "id": "WTMh57D70Mi0",
    "jupyter": {
     "outputs_hidden": true
    },
    "outputId": "96cb7df9-bc6a-417d-bd39-787ecd31526c"
   },
   "outputs": [
    {
     "name": "stdout",
     "output_type": "stream",
     "text": [
      "1498\n",
      "1498\n",
      "<class 'numpy.ndarray'>\n"
     ]
    },
    {
     "ename": "ValueError",
     "evalue": "XA must be a 2-dimensional array.",
     "output_type": "error",
     "traceback": [
      "\u001b[0;31m---------------------------------------------------------------------------\u001b[0m",
      "\u001b[0;31mValueError\u001b[0m                                Traceback (most recent call last)",
      "\u001b[0;32m<ipython-input-28-bea1c157c4f6>\u001b[0m in \u001b[0;36m<module>\u001b[0;34m\u001b[0m\n\u001b[1;32m     31\u001b[0m         \u001b[0;32mif\u001b[0m \u001b[0mindex\u001b[0m \u001b[0;34m<=\u001b[0m \u001b[0mi\u001b[0m\u001b[0;34m:\u001b[0m\u001b[0;34m\u001b[0m\u001b[0;34m\u001b[0m\u001b[0m\n\u001b[1;32m     32\u001b[0m             \u001b[0;32mcontinue\u001b[0m\u001b[0;34m\u001b[0m\u001b[0;34m\u001b[0m\u001b[0m\n\u001b[0;32m---> 33\u001b[0;31m         \u001b[0md\u001b[0m \u001b[0;34m=\u001b[0m \u001b[0mdistance\u001b[0m\u001b[0;34m.\u001b[0m\u001b[0mcdist\u001b[0m\u001b[0;34m(\u001b[0m\u001b[0mnp\u001b[0m\u001b[0;34m.\u001b[0m\u001b[0marray\u001b[0m\u001b[0;34m(\u001b[0m\u001b[0mclist\u001b[0m\u001b[0;34m[\u001b[0m\u001b[0mi\u001b[0m\u001b[0;34m]\u001b[0m\u001b[0;34m.\u001b[0m\u001b[0mpolygon\u001b[0m\u001b[0;34m)\u001b[0m\u001b[0;34m,\u001b[0m\u001b[0mnp\u001b[0m\u001b[0;34m.\u001b[0m\u001b[0marray\u001b[0m\u001b[0;34m(\u001b[0m\u001b[0mclist\u001b[0m\u001b[0;34m[\u001b[0m\u001b[0mindex\u001b[0m\u001b[0;34m]\u001b[0m\u001b[0;34m.\u001b[0m\u001b[0mpolygon\u001b[0m\u001b[0;34m)\u001b[0m\u001b[0;34m,\u001b[0m\u001b[0;34m'euclidean'\u001b[0m\u001b[0;34m)\u001b[0m\u001b[0;34m\u001b[0m\u001b[0;34m\u001b[0m\u001b[0m\n\u001b[0m\u001b[1;32m     34\u001b[0m         \u001b[0;32mif\u001b[0m \u001b[0mmin\u001b[0m\u001b[0;34m(\u001b[0m\u001b[0md\u001b[0m\u001b[0;34m)\u001b[0m \u001b[0;34m<\u001b[0m \u001b[0mmindist\u001b[0m\u001b[0;34m:\u001b[0m\u001b[0;34m\u001b[0m\u001b[0;34m\u001b[0m\u001b[0m\n\u001b[1;32m     35\u001b[0m             \u001b[0madjacency_list\u001b[0m\u001b[0;34m[\u001b[0m\u001b[0mi\u001b[0m\u001b[0;34m]\u001b[0m\u001b[0;34m.\u001b[0m\u001b[0mappend\u001b[0m \u001b[0;34m(\u001b[0m\u001b[0mindex\u001b[0m\u001b[0;34m)\u001b[0m\u001b[0;34m\u001b[0m\u001b[0;34m\u001b[0m\u001b[0m\n",
      "\u001b[0;32m~/environments/virtual-window/lib/python3.7/site-packages/scipy/spatial/distance.py\u001b[0m in \u001b[0;36mcdist\u001b[0;34m(XA, XB, metric, *args, **kwargs)\u001b[0m\n\u001b[1;32m   2715\u001b[0m \u001b[0;34m\u001b[0m\u001b[0m\n\u001b[1;32m   2716\u001b[0m     \u001b[0;32mif\u001b[0m \u001b[0mlen\u001b[0m\u001b[0;34m(\u001b[0m\u001b[0ms\u001b[0m\u001b[0;34m)\u001b[0m \u001b[0;34m!=\u001b[0m \u001b[0;36m2\u001b[0m\u001b[0;34m:\u001b[0m\u001b[0;34m\u001b[0m\u001b[0;34m\u001b[0m\u001b[0m\n\u001b[0;32m-> 2717\u001b[0;31m         \u001b[0;32mraise\u001b[0m \u001b[0mValueError\u001b[0m\u001b[0;34m(\u001b[0m\u001b[0;34m'XA must be a 2-dimensional array.'\u001b[0m\u001b[0;34m)\u001b[0m\u001b[0;34m\u001b[0m\u001b[0;34m\u001b[0m\u001b[0m\n\u001b[0m\u001b[1;32m   2718\u001b[0m     \u001b[0;32mif\u001b[0m \u001b[0mlen\u001b[0m\u001b[0;34m(\u001b[0m\u001b[0msB\u001b[0m\u001b[0;34m)\u001b[0m \u001b[0;34m!=\u001b[0m \u001b[0;36m2\u001b[0m\u001b[0;34m:\u001b[0m\u001b[0;34m\u001b[0m\u001b[0;34m\u001b[0m\u001b[0m\n\u001b[1;32m   2719\u001b[0m         \u001b[0;32mraise\u001b[0m \u001b[0mValueError\u001b[0m\u001b[0;34m(\u001b[0m\u001b[0;34m'XB must be a 2-dimensional array.'\u001b[0m\u001b[0;34m)\u001b[0m\u001b[0;34m\u001b[0m\u001b[0;34m\u001b[0m\u001b[0m\n",
      "\u001b[0;31mValueError\u001b[0m: XA must be a 2-dimensional array."
     ]
    }
   ],
   "source": [
    "#Second test driver\n",
    "\n",
    "image_path = 'HighConfluencyTrain3_InProgress.png'\n",
    "img = np.array(Image.open(image_path))\n",
    "clist = cell_poly_properties(img)\n",
    "mindist = 20\n",
    "\n",
    "centroid_list = []\n",
    "adjacency_list = []\n",
    "wide_list = []\n",
    "\n",
    "#centroid_list = np.array([np.array(cell.centroid) for cell in clist])\n",
    "centroid_list = [cell.centroid for cell in clist]\n",
    "print(len(centroid_list))\n",
    "centroid_list = np.array(centroid_list)\n",
    "print(type(centroid_list))\n",
    "'''\n",
    "for i,cell in enumerate(clist):\n",
    "    centroid_list[i] = cell.centroid\n",
    "'''\n",
    "tree = []\n",
    "tree = KDTree(centroid_list, leaf_size=10)\n",
    "\n",
    "#wide_list = [tree.query_radius(center, mindist*10) for center in centroid_list]\n",
    "wide_list = tree.query_radius(centroid_list, mindist * 10)\n",
    "\n",
    "for i,small_list in enumerate(wide_list):\n",
    "    adjacency_list.append (list())\n",
    "    for index in small_list:\n",
    "        # if we've already explored this pair then skip (as cdist _should_ be symmetrical)\n",
    "        if index <= i:\n",
    "            continue\n",
    "        d = distance.cdist(np.array(clist[i].polygon),np.array(clist[index].polygon),'euclidean')\n",
    "        if min(d) < mindist:\n",
    "            adjacency_list[i].append (index)"
   ]
  },
  {
   "cell_type": "code",
   "execution_count": 41,
   "metadata": {},
   "outputs": [
    {
     "name": "stdout",
     "output_type": "stream",
     "text": [
      "(21.257383966244724, 97.87341772151899)\n"
     ]
    }
   ],
   "source": [
    "#(np.array(clist[i].polygon))\n",
    "print((clist[i].polygon[0:4]))"
   ]
  },
  {
   "cell_type": "code",
   "execution_count": 35,
   "metadata": {
    "colab": {
     "base_uri": "https://localhost:8080/",
     "height": 191
    },
    "colab_type": "code",
    "id": "QWRIZKe23G6r",
    "outputId": "e94255b9-092f-4f1f-ce25-b57359fb0985"
   },
   "outputs": [
    {
     "name": "stdout",
     "output_type": "stream",
     "text": [
      "[[0.5488135  0.71518937 0.60276338]\n",
      " [0.54488318 0.4236548  0.64589411]\n",
      " [0.43758721 0.891773   0.96366276]\n",
      " [0.38344152 0.79172504 0.52889492]\n",
      " [0.56804456 0.92559664 0.07103606]\n",
      " [0.0871293  0.0202184  0.83261985]\n",
      " [0.77815675 0.87001215 0.97861834]\n",
      " [0.79915856 0.46147936 0.78052918]\n",
      " [0.11827443 0.63992102 0.14335329]\n",
      " [0.94466892 0.52184832 0.41466194]]\n"
     ]
    }
   ],
   "source": [
    "import random\n",
    "rng = np.random.RandomState(0)\n",
    "X = rng.random_sample((10, 3))\n",
    "print(X)\n",
    "\n"
   ]
  },
  {
   "cell_type": "code",
   "execution_count": 1,
   "metadata": {
    "colab": {
     "base_uri": "https://localhost:8080/",
     "height": 995
    },
    "colab_type": "code",
    "id": "Cf31zkFk9CFP",
    "outputId": "39c57b65-0105-4cc0-d937-5ba564626de0"
   },
   "outputs": [
    {
     "ename": "NameError",
     "evalue": "name 'plt' is not defined",
     "output_type": "error",
     "traceback": [
      "\u001b[0;31m---------------------------------------------------------------------------\u001b[0m",
      "\u001b[0;31mNameError\u001b[0m                                 Traceback (most recent call last)",
      "\u001b[0;32m<ipython-input-1-53707b5ff28a>\u001b[0m in \u001b[0;36m<module>\u001b[0;34m\u001b[0m\n\u001b[0;32m----> 1\u001b[0;31m \u001b[0mfig\u001b[0m\u001b[0;34m,\u001b[0m \u001b[0max\u001b[0m \u001b[0;34m=\u001b[0m \u001b[0mplt\u001b[0m\u001b[0;34m.\u001b[0m\u001b[0msubplots\u001b[0m\u001b[0;34m(\u001b[0m\u001b[0;34m)\u001b[0m\u001b[0;34m\u001b[0m\u001b[0;34m\u001b[0m\u001b[0m\n\u001b[0m\u001b[1;32m      2\u001b[0m \u001b[0max\u001b[0m\u001b[0;34m.\u001b[0m\u001b[0mimshow\u001b[0m\u001b[0;34m(\u001b[0m\u001b[0mimg\u001b[0m\u001b[0;34m,\u001b[0m \u001b[0mcmap\u001b[0m\u001b[0;34m=\u001b[0m\u001b[0mplt\u001b[0m\u001b[0;34m.\u001b[0m\u001b[0mcm\u001b[0m\u001b[0;34m.\u001b[0m\u001b[0mgray\u001b[0m\u001b[0;34m)\u001b[0m\u001b[0;34m\u001b[0m\u001b[0;34m\u001b[0m\u001b[0m\n\u001b[1;32m      3\u001b[0m \u001b[0mplt\u001b[0m\u001b[0;34m.\u001b[0m\u001b[0mshow\u001b[0m\u001b[0;34m(\u001b[0m\u001b[0;34m)\u001b[0m\u001b[0;34m\u001b[0m\u001b[0;34m\u001b[0m\u001b[0m\n\u001b[1;32m      4\u001b[0m \u001b[0mcentroids\u001b[0m \u001b[0;34m=\u001b[0m \u001b[0;34m[\u001b[0m\u001b[0;34m]\u001b[0m\u001b[0;34m\u001b[0m\u001b[0;34m\u001b[0m\u001b[0m\n\u001b[1;32m      5\u001b[0m \u001b[0mcentroids\u001b[0m \u001b[0;34m=\u001b[0m \u001b[0;34m[\u001b[0m\u001b[0mcell\u001b[0m\u001b[0;34m.\u001b[0m\u001b[0mcentroid\u001b[0m \u001b[0;32mfor\u001b[0m \u001b[0mcell\u001b[0m \u001b[0;32min\u001b[0m \u001b[0mclist\u001b[0m\u001b[0;34m]\u001b[0m\u001b[0;34m\u001b[0m\u001b[0;34m\u001b[0m\u001b[0m\n",
      "\u001b[0;31mNameError\u001b[0m: name 'plt' is not defined"
     ]
    }
   ],
   "source": [
    "\n",
    "fig, ax = plt.subplots()\n",
    "ax.imshow(img, cmap=plt.cm.gray)\n",
    "plt.show()\n",
    "centroids = []\n",
    "centroids = [cell.centroid for cell in clist]\n",
    "(cluster_labels) = HDB_cluster(centroids,50)\n",
    "\n",
    "#DB_cluster(centroids, 50, 2)\n",
    "plt.show()\n",
    "#(cluster_labels,hierarchy,alt_labels) = HDB_cluster(centroids,50)\n",
    "\n",
    "#ax.plot((x0, x1), (y0, y1), '-r', linewidth=1)\n",
    "\n"
   ]
  },
  {
   "cell_type": "code",
   "execution_count": 1,
   "metadata": {
    "colab": {
     "base_uri": "https://localhost:8080/",
     "height": 34
    },
    "colab_type": "code",
    "id": "n5SUms-8c350",
    "outputId": "cb5e7c06-f26c-48c5-daaf-94e2747b961b"
   },
   "outputs": [
    {
     "name": "stdout",
     "output_type": "stream",
     "text": [
      "fatal: not a git repository (or any of the parent directories): .git\n"
     ]
    }
   ],
   "source": [
    "!git status"
   ]
  },
  {
   "cell_type": "code",
   "execution_count": null,
   "metadata": {
    "colab": {},
    "colab_type": "code",
    "id": "E1LmtMNkN4Ki"
   },
   "outputs": [],
   "source": []
  }
 ],
 "metadata": {
  "colab": {
   "name": "morphological_analysis.ipynb",
   "provenance": []
  },
  "kernelspec": {
   "display_name": "Python 3",
   "language": "python",
   "name": "python3"
  },
  "language_info": {
   "codemirror_mode": {
    "name": "ipython",
    "version": 3
   },
   "file_extension": ".py",
   "mimetype": "text/x-python",
   "name": "python",
   "nbconvert_exporter": "python",
   "pygments_lexer": "ipython3",
   "version": "3.7.7"
  }
 },
 "nbformat": 4,
 "nbformat_minor": 4
}
