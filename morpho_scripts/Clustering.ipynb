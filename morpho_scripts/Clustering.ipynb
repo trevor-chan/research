{
 "cells": [
  {
   "cell_type": "code",
   "execution_count": 61,
   "metadata": {},
   "outputs": [
    {
     "name": "stdout",
     "output_type": "stream",
     "text": [
      "Found existing installation: cdlib 0.1.8\n",
      "Uninstalling cdlib-0.1.8:\n",
      "  Would remove:\n",
      "    /Users/trevorchan/environments/machine-learning/lib/python3.7/site-packages/cdlib-0.1.8.dist-info/*\n",
      "    /Users/trevorchan/environments/machine-learning/lib/python3.7/site-packages/cdlib/*\n",
      "Proceed (y/n)? ^C\n",
      "\u001b[31mERROR: Operation cancelled by user\u001b[0m\n"
     ]
    }
   ],
   "source": [
    "#!pip install cdlib\n",
    "!pip uninstall cdlib"
   ]
  },
  {
   "cell_type": "code",
   "execution_count": 2,
   "metadata": {},
   "outputs": [
    {
     "data": {
      "text/plain": [
       "{'singular': 'ignore',\n",
       " 'underflow': 'ignore',\n",
       " 'overflow': 'ignore',\n",
       " 'slow': 'ignore',\n",
       " 'loss': 'ignore',\n",
       " 'no_result': 'ignore',\n",
       " 'domain': 'ignore',\n",
       " 'arg': 'ignore',\n",
       " 'other': 'ignore'}"
      ]
     },
     "execution_count": 2,
     "metadata": {},
     "output_type": "execute_result"
    }
   ],
   "source": [
    "import sys\n",
    "import matplotlib.pyplot as plt\n",
    "import numpy as np\n",
    "import os\n",
    "import scipy\n",
    "import scipy.special\n",
    "\n",
    "import torch\n",
    "\n",
    "np.seterr(all='raise')\n",
    "scipy.special.seterr(all='raise')\n",
    "\n",
    "#import cdlib"
   ]
  },
  {
   "cell_type": "code",
   "execution_count": 3,
   "metadata": {},
   "outputs": [],
   "source": [
    "#from cdlib import algorithms\n",
    "import networkx as nx"
   ]
  },
  {
   "cell_type": "code",
   "execution_count": 4,
   "metadata": {},
   "outputs": [],
   "source": [
    "import pickle\n",
    "adjacency_list = []\n",
    "with open('adjacency_list.data', 'rb') as filehandle:\n",
    "    adjacency_list = pickle.load(filehandle)"
   ]
  },
  {
   "cell_type": "code",
   "execution_count": 5,
   "metadata": {},
   "outputs": [],
   "source": [
    "g = nx.Graph()\n",
    "for i in range(len(adjacency_list)):\n",
    "    g.add_node(i)\n",
    "\n",
    "for a in range(len(adjacency_list)):\n",
    "    for b in adjacency_list[a]:\n",
    "        if g.has_edge(a,b):\n",
    "            continue\n",
    "        g.add_edge(a,b)"
   ]
  },
  {
   "cell_type": "code",
   "execution_count": 6,
   "metadata": {},
   "outputs": [
    {
     "name": "stderr",
     "output_type": "stream",
     "text": [
      "/Users/trevorchan/environments/machine-learning/lib/python3.7/site-packages/networkx/drawing/nx_pylab.py:579: MatplotlibDeprecationWarning: \n",
      "The iterable function was deprecated in Matplotlib 3.1 and will be removed in 3.3. Use np.iterable instead.\n",
      "  if not cb.iterable(width):\n"
     ]
    },
    {
     "data": {
      "image/png": "[encoded data removed]",
      "text/plain": [
       "<Figure size 432x288 with 1 Axes>"
      ]
     },
     "metadata": {},
     "output_type": "display_data"
    }
   ],
   "source": [
    "nx.draw_networkx(g)"
   ]
  },
  {
   "cell_type": "code",
   "execution_count": 7,
   "metadata": {},
   "outputs": [],
   "source": [
    "\"\"\"\n",
    "Name :: UnityId\n",
    "Shruti Kuber :: skuber\n",
    "Abhishek Lingwal :: aslingwa\n",
    "Raunaq Saxena :: rsaxena\n",
    "Chen, Jie, and Yousef Saad.\n",
    "\"Dense subgraph extraction with application to algorithms detection.\"\n",
    "IEEE Transactions on Knowledge and Data Engineering 24.7 (2012): 1216-1230.\n",
    "Reference internal: https://github.com/imabhishekl/CSC591_Community_Detection\n",
    "\"\"\"\n",
    "\n",
    "class __Node:\n",
    "\n",
    "    def __init__(self, name):\n",
    "        self.name = name\n",
    "        self.left = None\n",
    "        self.right = None\n",
    "        self.parent = None\n",
    "        self.num_edges = 0\n",
    "        self.vertices = set()\n",
    "        self.density = 0\n",
    "\n",
    "\n",
    "class __Tree:\n",
    "\n",
    "    def __init__(self):\n",
    "        self.root = None\n",
    "\n",
    "    def findLCA_Node(self, src_node, dest_node):\n",
    "        while src_node is not None:\n",
    "            if dest_node.name in src_node.vertices:\n",
    "                return src_node\n",
    "            src_node = src_node.parent\n",
    "        return None\n",
    "\n",
    "    def count_vertices_and_edges(self, edges_list, nodes_list):\n",
    "        for edge in edges_list:\n",
    "            lca_node = None\n",
    "\n",
    "            src_node = nodes_list[edge[0]] if nodes_list.__contains__(edge[0]) else None\n",
    "            dst_node = nodes_list[edge[1]] if nodes_list.__contains__(edge[1]) else None\n",
    "            if src_node is not None and dst_node is not None:\n",
    "                lca_node = self.findLCA_Node(src_node, dst_node)\n",
    "\n",
    "            if lca_node is not None:\n",
    "                lca_node.num_edges = lca_node.num_edges + 1\n",
    "\n",
    "    def count_vertices_and_edges_wrap(self, root):\n",
    "        if root.left is not None and root.right is not None:\n",
    "            self.count_vertices_and_edges_wrap(root.left)\n",
    "            self.count_vertices_and_edges_wrap(root.right)\n",
    "        if root.left is not None and root.right is not None:\n",
    "            root.num_edges = root.left.num_edges + root.right.num_edges + root.num_edges\n",
    "        # print root.name, root.num_edges\n",
    "\n",
    "    def compute_density(self, root):\n",
    "        if root.left is None and root.right is None:\n",
    "            return\n",
    "        total_vertices = float(len(root.vertices))\n",
    "        max_vertices = total_vertices * (total_vertices - 1) / 2\n",
    "        root.density = root.num_edges / max_vertices\n",
    "        self.compute_density(root.left)\n",
    "        self.compute_density(root.right)\n",
    "\n",
    "    def extract_sub_graph(self, root, min_density, result):\n",
    "\n",
    "        if root is None:\n",
    "            return\n",
    "        if root.density > min_density:\n",
    "            com = []\n",
    "            for elem in list(root.vertices):\n",
    "                com.append(elem)\n",
    "            result.append(com)\n",
    "        else:\n",
    "            self.extract_sub_graph(root.left, min_density, result)\n",
    "            self.extract_sub_graph(root.right, min_density, result)\n",
    "\n",
    "\n",
    "def __make_set(r):\n",
    "    r.parent = None\n",
    "    r.vertices.add(r.name)\n",
    "\n",
    "\n",
    "def __set_find(r):\n",
    "    while r.parent != None:\n",
    "        r = r.parent\n",
    "    return r\n",
    "\n",
    "\n",
    "# Building a new Node as Union of two sets\n",
    "def __set_union(x, y):\n",
    "    r = __Node(\"P\" + str(x.name) + str(y.name))\n",
    "    r.left = x\n",
    "    r.right = y\n",
    "    x.parent = r\n",
    "    y.parent = r\n",
    "    r.vertices = r.vertices.union(x.vertices, y.vertices)\n",
    "    return r"
   ]
  },
  {
   "cell_type": "code",
   "execution_count": 10,
   "metadata": {},
   "outputs": [],
   "source": [
    "def GDMP2(graph, min_threshold=.75):\n",
    "\n",
    "    scipy.special.seterr(all='raise')\n",
    "    A = nx.adjacency_matrix(graph)\n",
    "    adj_matrix = A.todense()\n",
    "\n",
    "    M = np.zeros(adj_matrix.shape)\n",
    "\n",
    "    row, col = adj_matrix.shape\n",
    "\n",
    "    # Building similarity function matrix, ie, Cosine Function matrix of all Column Vectors\n",
    "\n",
    "    for x in range(0, row):\n",
    "        #if x == 25 or x == 26:\n",
    "            #print(adj_matrix[:, x])\n",
    "        for y in range(x, col):\n",
    "            try:\n",
    "                M[x][y] = (1 - scipy.spatial.distance.cosine(adj_matrix[:, x], adj_matrix[:, y]))\n",
    "            except:\n",
    "                print (\"FAILED ON\", x, y)\n",
    "\n",
    "    tuples = []\n",
    "    # On basis of zero graph\n",
    "    min_value = 1 if min(graph.nodes()) > 0 else 0\n",
    "\n",
    "    # Considering only non zero values\n",
    "    for (x, y), value in np.ndenumerate(M):\n",
    "        if value != 0 and x != y:\n",
    "            tuples.append(((x + min_value, y + min_value), value))\n",
    "\n",
    "    C = sorted(tuples, key=lambda x: x[1])\n",
    "    t = np.count_nonzero(adj_matrix)\n",
    "    C = C[-t:]\n",
    "    ln = len(C)\n",
    "    ln = ln - 1\n",
    "\n",
    "    nodes = dict()\n",
    "    root_nodes = set()\n",
    "    tree = __Tree()\n",
    "\n",
    "    for index in range(ln, -1, -1):\n",
    "        vertices, value = C[index]\n",
    "        i, j = vertices\n",
    "        if nodes.__contains__(i) is False:\n",
    "            a = __Node(i)\n",
    "            __make_set(a)\n",
    "            nodes[i] = a\n",
    "        if nodes.__contains__(j) is False:\n",
    "            a = __Node(j)\n",
    "            __make_set(a)\n",
    "            nodes[j] = a\n",
    "\n",
    "        i = nodes[i]\n",
    "        j = nodes[j]\n",
    "        ri = __set_find(i)\n",
    "        rj = __set_find(j)\n",
    "        if ri.vertices != rj.vertices:\n",
    "            temp_root = __set_union(ri, rj)\n",
    "            root_nodes.add(temp_root)\n",
    "\n",
    "    root_nodes = filter(lambda entry: entry.parent is None, list(root_nodes))\n",
    "\n",
    "    for temp_roots in root_nodes:\n",
    "        tree.root = temp_roots\n",
    "\n",
    "        # Counting number of vertices and Edges\n",
    "        tree.count_vertices_and_edges(graph.edges(), nodes)\n",
    "\n",
    "        # Summing up number of edges of children to parent\n",
    "        tree.count_vertices_and_edges_wrap(tree.root)\n",
    "\n",
    "        # Computing density of Tree Nodes\n",
    "        tree.compute_density(tree.root)\n",
    "\n",
    "        # Filtering Nodes as Per Density Threshold\n",
    "        communities = []\n",
    "        tree.extract_sub_graph(tree.root, min_threshold, communities)\n",
    "        return communities"
   ]
  },
  {
   "cell_type": "code",
   "execution_count": 8,
   "metadata": {},
   "outputs": [],
   "source": [
    "if nx.is_connected(g) != True:\n",
    "    components_g = nx.connected_components(g)\n",
    "\n",
    "gc = []\n",
    "i = 0\n",
    "for component in components_g:\n",
    "    temp_graph = nx.Graph()\n",
    "    \n",
    "    temp_graph.add_nodes_from(component)\n",
    "    for a in range(len(adjacency_list)):\n",
    "        for b in adjacency_list[a]:\n",
    "            if temp_graph.has_edge(a,b):\n",
    "                continue\n",
    "            if temp_graph.has_node(a) and temp_graph.has_node(b):\n",
    "                temp_graph.add_edge(a,b)\n",
    "    gc.append(temp_graph)\n",
    "    #print(component)\n",
    "    i += 1"
   ]
  },
  {
   "cell_type": "code",
   "execution_count": 9,
   "metadata": {},
   "outputs": [
    {
     "data": {
      "text/plain": [
       "networkx.classes.graph.Graph"
      ]
     },
     "execution_count": 9,
     "metadata": {},
     "output_type": "execute_result"
    },
    {
     "data": {
      "image/png": "[encoded data removed]",
      "text/plain": [
       "<Figure size 432x288 with 1 Axes>"
      ]
     },
     "metadata": {},
     "output_type": "display_data"
    }
   ],
   "source": [
    "nx.draw_networkx(gc[0])\n",
    "type(gc[0])"
   ]
  },
  {
   "cell_type": "code",
   "execution_count": 12,
   "metadata": {},
   "outputs": [],
   "source": [
    "blocked = GDMP2(gc[0], min_threshold = .5)"
   ]
  },
  {
   "cell_type": "code",
   "execution_count": 11,
   "metadata": {},
   "outputs": [
    {
     "ename": "NameError",
     "evalue": "name 'graph' is not defined",
     "output_type": "error",
     "traceback": [
      "\u001b[0;31m---------------------------------------------------------------------------\u001b[0m",
      "\u001b[0;31mNameError\u001b[0m                                 Traceback (most recent call last)",
      "\u001b[0;32m<ipython-input-11-5128abc09e6b>\u001b[0m in \u001b[0;36m<module>\u001b[0;34m\u001b[0m\n\u001b[0;32m----> 1\u001b[0;31m \u001b[0mA\u001b[0m \u001b[0;34m=\u001b[0m \u001b[0mnx\u001b[0m\u001b[0;34m.\u001b[0m\u001b[0madjacency_matrix\u001b[0m\u001b[0;34m(\u001b[0m\u001b[0mgraph\u001b[0m\u001b[0;34m)\u001b[0m\u001b[0;34m\u001b[0m\u001b[0;34m\u001b[0m\u001b[0m\n\u001b[0m\u001b[1;32m      2\u001b[0m \u001b[0madj_matrix\u001b[0m \u001b[0;34m=\u001b[0m \u001b[0mA\u001b[0m\u001b[0;34m.\u001b[0m\u001b[0mtodense\u001b[0m\u001b[0;34m(\u001b[0m\u001b[0;34m)\u001b[0m\u001b[0;34m\u001b[0m\u001b[0;34m\u001b[0m\u001b[0m\n\u001b[1;32m      3\u001b[0m \u001b[0;34m\u001b[0m\u001b[0m\n\u001b[1;32m      4\u001b[0m \u001b[0mscipy\u001b[0m\u001b[0;34m.\u001b[0m\u001b[0mspatial\u001b[0m\u001b[0;34m.\u001b[0m\u001b[0mdistance\u001b[0m\u001b[0;34m.\u001b[0m\u001b[0mcosine\u001b[0m\u001b[0;34m(\u001b[0m\u001b[0;34m)\u001b[0m\u001b[0;34m\u001b[0m\u001b[0;34m\u001b[0m\u001b[0m\n",
      "\u001b[0;31mNameError\u001b[0m: name 'graph' is not defined"
     ]
    }
   ],
   "source": [
    "A = nx.adjacency_matrix(g)\n",
    "adj_matrix = A.todense()\n",
    "\n",
    "scipy.spatial.distance.cosine()"
   ]
  },
  {
   "cell_type": "code",
   "execution_count": 13,
   "metadata": {},
   "outputs": [
    {
     "data": {
      "text/plain": [
       "[[33, 34],\n",
       " [96, 98, 75, 43, 44, 79, 80, 17, 115, 20, 53, 23, 56, 90, 93],\n",
       " [19, 107, 60, 77, 94],\n",
       " [50, 76],\n",
       " [46, 28, 38, 63],\n",
       " [52, 27, 12, 92, 31],\n",
       " [72, 3],\n",
       " [97, 4, 37, 70, 101, 39, 8, 102, 42, 14, 111, 18, 84, 55, 87, 29],\n",
       " [89, 83, 86],\n",
       " [64,\n",
       "  68,\n",
       "  69,\n",
       "  73,\n",
       "  74,\n",
       "  82,\n",
       "  85,\n",
       "  91,\n",
       "  95,\n",
       "  100,\n",
       "  40,\n",
       "  104,\n",
       "  108,\n",
       "  48,\n",
       "  49,\n",
       "  114,\n",
       "  51,\n",
       "  54,\n",
       "  57,\n",
       "  61],\n",
       " [1, 66, 71, 10, 78, 15, 81, 21, 22, 24, 88, 26, 32, 103, 45, 113, 62],\n",
       " [0, 2, 36, 9, 110, 30, 47]]"
      ]
     },
     "execution_count": 13,
     "metadata": {},
     "output_type": "execute_result"
    }
   ],
   "source": [
    "blocked"
   ]
  },
  {
   "cell_type": "code",
   "execution_count": null,
   "metadata": {},
   "outputs": [],
   "source": []
  }
 ],
 "metadata": {
  "kernelspec": {
   "display_name": "Python 3",
   "language": "python",
   "name": "python3"
  },
  "language_info": {
   "codemirror_mode": {
    "name": "ipython",
    "version": 3
   },
   "file_extension": ".py",
   "mimetype": "text/x-python",
   "name": "python",
   "nbconvert_exporter": "python",
   "pygments_lexer": "ipython3",
   "version": "3.7.7"
  }
 },
 "nbformat": 4,
 "nbformat_minor": 4
}
