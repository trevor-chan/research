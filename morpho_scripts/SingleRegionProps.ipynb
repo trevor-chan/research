{
 "cells": [
  {
   "cell_type": "code",
   "execution_count": 4,
   "metadata": {},
   "outputs": [],
   "source": [
    "import sys\n",
    "import math\n",
    "import matplotlib.pyplot as plt\n",
    "import numpy as np\n",
    "import glob\n",
    "import os\n",
    "from PIL import Image, ImageDraw\n",
    "import torch\n",
    "\n",
    "from tqdm import tqdm\n",
    "\n",
    "import seaborn as sns\n",
    "import pickle\n",
    "\n",
    "import cv2\n",
    "\n",
    "#from skimage.draw import ellipse\n",
    "#from skimage.measure import label, regionprops, find_contours, approximate_polygon\n",
    "from skimage.transform import rotate\n",
    "from sklearn.neighbors import KDTree\n",
    "from scipy.spatial import distance\n",
    "\n",
    "#from sklearn.cluster import DBSCAN\n",
    "import hdbscan"
   ]
  },
  {
   "cell_type": "code",
   "execution_count": 58,
   "metadata": {},
   "outputs": [
    {
     "data": {
      "text/plain": [
       "'   \"pred_boxes\" \"pred_masks\" \"scores\" \"classes\"  \"image_size\" '"
      ]
     },
     "execution_count": 58,
     "metadata": {},
     "output_type": "execute_result"
    }
   ],
   "source": [
    "#load model output into instances dict: \n",
    "instances = {}\n",
    "with open('instances_small.data', 'rb') as filehandle:\n",
    "#with open('instances.data', 'rb') as filehandle:\n",
    "    instances = pickle.load(filehandle)\n",
    "    \n",
    "'''   \"pred_boxes\" \"pred_masks\" \"scores\" \"classes\"  \"image_size\" '''"
   ]
  },
  {
   "cell_type": "code",
   "execution_count": 67,
   "metadata": {},
   "outputs": [],
   "source": [
    "bounding_boxes = np.array(instances['pred_boxes'])\n",
    "polygons = np.array(instances['pred_masks'])"
   ]
  },
  {
   "cell_type": "code",
   "execution_count": 68,
   "metadata": {
    "collapsed": true,
    "jupyter": {
     "outputs_hidden": true
    }
   },
   "outputs": [
    {
     "data": {
      "text/plain": [
       "[array([-17.87298584, 745.12701416, -18.87298584, 746.12701416,\n",
       "        -19.87298584, 746.12701416, -20.87298584, 746.12701416,\n",
       "        -21.87298584, 747.12701416, -22.87298584, 747.12701416,\n",
       "        -23.87298584, 748.12701416, -23.87298584, 749.12701416,\n",
       "        -24.87298584, 750.12701416, -24.87298584, 751.12701416,\n",
       "        -24.87298584, 752.12701416, -24.87298584, 753.12701416,\n",
       "        -24.87298584, 754.12701416, -24.87298584, 755.12701416,\n",
       "        -24.87298584, 756.12701416, -24.87298584, 757.12701416,\n",
       "        -25.87298584, 758.12701416, -25.87298584, 759.12701416,\n",
       "        -25.87298584, 760.12701416, -25.87298584, 761.12701416,\n",
       "        -25.87298584, 762.12701416, -26.87298584, 763.12701416,\n",
       "        -26.87298584, 764.12701416, -26.87298584, 765.12701416,\n",
       "        -26.87298584, 766.12701416, -26.87298584, 767.12701416,\n",
       "        -26.87298584, 768.12701416, -26.87298584, 769.12701416,\n",
       "        -25.87298584, 770.12701416, -24.87298584, 771.12701416,\n",
       "        -24.87298584, 772.12701416, -23.87298584, 773.12701416,\n",
       "        -22.87298584, 774.12701416, -21.87298584, 775.12701416,\n",
       "        -20.87298584, 776.12701416, -20.87298584, 777.12701416,\n",
       "        -19.87298584, 777.12701416, -18.87298584, 778.12701416,\n",
       "        -17.87298584, 778.12701416, -16.87298584, 778.12701416,\n",
       "        -15.87298584, 778.12701416, -14.87298584, 778.12701416,\n",
       "        -13.87298584, 778.12701416, -12.87298584, 778.12701416,\n",
       "        -11.87298584, 778.12701416, -10.87298584, 778.12701416,\n",
       "         -9.87298584, 778.12701416,  -8.87298584, 778.12701416,\n",
       "         -7.87298584, 778.12701416,  -6.87298584, 778.12701416,\n",
       "         -5.87298584, 778.12701416,  -4.87298584, 778.12701416,\n",
       "         -3.87298584, 778.12701416,  -2.87298584, 778.12701416,\n",
       "         -2.87298584, 777.12701416,  -2.87298584, 776.12701416,\n",
       "         -2.87298584, 775.12701416,  -2.87298584, 774.12701416,\n",
       "         -2.87298584, 773.12701416,  -2.87298584, 772.12701416,\n",
       "         -3.87298584, 771.12701416,  -3.87298584, 770.12701416,\n",
       "         -3.87298584, 769.12701416,  -4.87298584, 768.12701416,\n",
       "         -4.87298584, 767.12701416,  -5.87298584, 766.12701416,\n",
       "         -5.87298584, 765.12701416,  -5.87298584, 764.12701416,\n",
       "         -6.87298584, 763.12701416,  -6.87298584, 762.12701416,\n",
       "         -6.87298584, 761.12701416,  -7.87298584, 760.12701416,\n",
       "         -7.87298584, 759.12701416,  -8.87298584, 758.12701416,\n",
       "         -8.87298584, 757.12701416,  -8.87298584, 756.12701416,\n",
       "         -8.87298584, 755.12701416,  -9.87298584, 754.12701416,\n",
       "         -9.87298584, 753.12701416, -10.87298584, 752.12701416,\n",
       "        -10.87298584, 751.12701416, -10.87298584, 750.12701416,\n",
       "        -11.87298584, 749.12701416, -11.87298584, 748.12701416,\n",
       "        -12.87298584, 747.12701416, -12.87298584, 746.12701416,\n",
       "        -13.87298584, 746.12701416, -14.87298584, 745.12701416,\n",
       "        -15.87298584, 745.12701416, -16.87298584, 745.12701416])]"
      ]
     },
     "execution_count": 68,
     "metadata": {},
     "output_type": "execute_result"
    }
   ],
   "source": [
    "polygons[0]"
   ]
  },
  {
   "cell_type": "code",
   "execution_count": 74,
   "metadata": {},
   "outputs": [],
   "source": [
    "#calculate all masks\n",
    "\n",
    "masks = []\n",
    "\n",
    "for i in range(len(bounding_boxes)):\n",
    "    width = int(abs(bounding_boxes[i][0]-bounding_boxes[i][2]))\n",
    "    height = int(abs(bounding_boxes[i][1]-bounding_boxes[i][3]))\n",
    "    polygon = polygons[i]\n",
    "    polygon[0::2] = np.subtract(polygon[0::2], width)\n",
    "    polygon[1::2] = np.subtract(polygon[1::2], height)\n",
    "    img = Image.new('L', (width, height), 0)\n",
    "    ImageDraw.Draw(img).polygon(polygon[0], outline=1, fill=1)\n",
    "    masks.append(np.array(img))"
   ]
  },
  {
   "cell_type": "code",
   "execution_count": 76,
   "metadata": {},
   "outputs": [
    {
     "data": {
      "text/plain": [
       "446"
      ]
     },
     "execution_count": 76,
     "metadata": {},
     "output_type": "execute_result"
    }
   ],
   "source": [
    "len(masks)"
   ]
  },
  {
   "cell_type": "code",
   "execution_count": 56,
   "metadata": {},
   "outputs": [
    {
     "data": {
      "text/plain": [
       "[[...]]"
      ]
     },
     "execution_count": 56,
     "metadata": {},
     "output_type": "execute_result"
    }
   ],
   "source": [
    "polygon"
   ]
  },
  {
   "cell_type": "code",
   "execution_count": 57,
   "metadata": {},
   "outputs": [
    {
     "data": {
      "text/plain": [
       "[[...]]"
      ]
     },
     "execution_count": 57,
     "metadata": {},
     "output_type": "execute_result"
    }
   ],
   "source": [
    "polygons[i]"
   ]
  },
  {
   "cell_type": "code",
   "execution_count": null,
   "metadata": {},
   "outputs": [],
   "source": []
  }
 ],
 "metadata": {
  "kernelspec": {
   "display_name": "Python 3",
   "language": "python",
   "name": "python3"
  },
  "language_info": {
   "codemirror_mode": {
    "name": "ipython",
    "version": 3
   },
   "file_extension": ".py",
   "mimetype": "text/x-python",
   "name": "python",
   "nbconvert_exporter": "python",
   "pygments_lexer": "ipython3",
   "version": "3.7.7"
  }
 },
 "nbformat": 4,
 "nbformat_minor": 4
}
