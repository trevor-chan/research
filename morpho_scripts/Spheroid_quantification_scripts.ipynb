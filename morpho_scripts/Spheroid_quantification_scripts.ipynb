{
  "nbformat": 4,
  "nbformat_minor": 0,
  "metadata": {
    "colab": {
      "name": "Spheroid_quantification_scripts.ipynb",
      "provenance": [],
      "collapsed_sections": []
    },
    "kernelspec": {
      "name": "python3",
      "display_name": "Python 3"
    },
    "language_info": {
      "name": "python"
    }
  },
  "cells": [
    {
      "cell_type": "code",
      "metadata": {
        "id": "s_okTcCvmndT"
      },
      "source": [
        ""
      ],
      "execution_count": null,
      "outputs": []
    },
    {
      "cell_type": "code",
      "metadata": {
        "id": "DiP53QmFmqmd"
      },
      "source": [
        "import pandas as pd\n",
        "import glob\n",
        "import tqdm as tqdm"
      ],
      "execution_count": 127,
      "outputs": []
    },
    {
      "cell_type": "code",
      "metadata": {
        "id": "bu7nRSa_nOKB"
      },
      "source": [
        "def calc_props(df, label):\n",
        "    #index with largest area will always be the spheroid\n",
        "    #indices with area = 0 are protrusions\n",
        "    #others are disconnected regions\n",
        "\n",
        "    core = df[df.Area == df.Area.max()]\n",
        "    core_centroid = (float(core.X),float(core.Y))\n",
        "    core_area = float(core.Area)\n",
        "\n",
        "    discr = df.loc[df['Area'] < core_area]\n",
        "    discr = discr.loc[discr['Area'] > 0]\n",
        "    protrusions = df.loc[df['Area'] == 0]\n",
        "\n",
        "    def dist_calc(x0,y0,x1,y1):\n",
        "        return pow(((x0-x1)*(x0-x1)+(y0-y1)*(y0-y1)),.5)\n",
        "\n",
        "    protrusion_dists = [dist_calc(centroid[0],centroid[1],i[0],i[1]) for i in protrusions.loc[:, ['X', 'Y']].to_numpy()]\n",
        "    discr_dists = [dist_calc(centroid[0],centroid[1],i[0],i[1]) for i in discr.loc[:, ['X', 'Y']].to_numpy()]\n",
        "\n",
        "    protrusion_num = len(protrusions)\n",
        "    protrusion_max = max(protrusion_dists)\n",
        "    protrusion_mean = sum(protrusion_dists)/len(protrusion_dists)\n",
        "    discr_num = len(discr)\n",
        "    discr_max = max(discr_dists)\n",
        "    discr_mean = sum(discr_dists)/len(discr_dists)\n",
        "\n",
        "    discr_mean_area = sum(discr.loc[:,['Area']].to_numpy())/len(discr)\n",
        "\n",
        "    return dict(label = label,\n",
        "                area = core_area, \n",
        "                centroid = core_centroid, \n",
        "                perimeter = float(core['Perim.']),\n",
        "                circularity = float(core['Circ.']),\n",
        "                aspect_ratio = float(core['AR']),\n",
        "                roundness = float(core['Round']),\n",
        "                solidity = float(core['Solidity']),\n",
        "                protrusion_num = protrusion_num,\n",
        "                protrusion_mean_len = protrusion_mean,\n",
        "                protrusion_max_len = protrusion_max,\n",
        "                discr_num = discr_num,\n",
        "                discr_mean_dist = discr_mean,\n",
        "                discr_max_dist = discr_max,\n",
        "                discr_mean_area = discr_mean_area,\n",
        "                )\n"
      ],
      "execution_count": 129,
      "outputs": []
    },
    {
      "cell_type": "code",
      "metadata": {
        "colab": {
          "base_uri": "https://localhost:8080/"
        },
        "id": "qR0qmK5WmwJ7",
        "outputId": "23606867-020c-410e-8e19-60b2d1a1de46"
      },
      "source": [
        "globalpath = \"content/sample_data\" #folder path\n",
        "\n",
        "results = []\n",
        "for path in tqdm.tqdm(sorted(glob.glob(globalpath+'/*.csv')),position = 0, leave = True, desc = globalpath):\n",
        "    results.append(calc_props(pd.read_csv(path),path))\n",
        "\n",
        "pd.DataFrame.from_dict(results).to_csv('out.csv', index=False)"
      ],
      "execution_count": 138,
      "outputs": [
        {
          "output_type": "stream",
          "text": [
            "content/sample_data: 100%|██████████| 6/6 [00:00<00:00, 125.17it/s]\n"
          ],
          "name": "stderr"
        }
      ]
    },
    {
      "cell_type": "code",
      "metadata": {
        "id": "pW1B8xhpFi1X"
      },
      "source": [
        ""
      ],
      "execution_count": null,
      "outputs": []
    }
  ]
}