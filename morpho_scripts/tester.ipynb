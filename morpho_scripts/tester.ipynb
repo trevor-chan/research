{
 "cells": [
  {
   "cell_type": "code",
   "execution_count": 1,
   "metadata": {},
   "outputs": [],
   "source": [
    "import sys\n",
    "import matplotlib.pyplot as plt\n",
    "import numpy as np\n",
    "import os\n",
    "import scipy\n",
    "import scipy.special\n",
    "import cv2\n",
    "\n",
    "import torch\n",
    "\n",
    "import networkx as nx\n",
    "\n",
    "import pickle\n",
    "from PIL import Image, ImageDraw\n",
    "import matplotlib.lines as lines\n",
    "from mpl_toolkits import mplot3d\n",
    "from matplotlib.lines import Line2D\n",
    "\n",
    "from tqdm import tqdm\n",
    "import glob\n",
    "\n",
    "import statistics \n",
    "\n",
    "#For network adjacency checks\n",
    "from skimage.transform import rotate\n",
    "from sklearn.neighbors import KDTree\n",
    "from scipy.spatial import distance\n",
    "\n",
    "#For PCA\n",
    "import pandas as pd\n",
    "from sklearn.decomposition import PCA\n",
    "from sklearn.preprocessing import StandardScaler\n",
    "\n",
    "import seaborn as sns\n",
    "import pandas as pd\n",
    "\n",
    "import warnings\n",
    "\n",
    "np.seterr(all='raise')\n",
    "scipy.special.seterr(all='raise')\n",
    "\n",
    "from lineage_timeless import lineage_timeless\n",
    "from network_object import network_object\n",
    "from cell_object import cell_object"
   ]
  },
  {
   "cell_type": "code",
   "execution_count": 2,
   "metadata": {},
   "outputs": [
    {
     "name": "stderr",
     "output_type": "stream",
     "text": [
      "/Volumes/TC_backup/SCC_YMR/p1/YMR_1.1: 100%|██████████| 20/20 [00:19<00:00,  1.02it/s]\n"
     ]
    }
   ],
   "source": [
    "argv = [0,'/Volumes/TC_backup/SCC_YMR/p1/YMR_1.1','rerun','testlineage']\n",
    "\n",
    "assert len(argv) > 1, \"(lineage directory) (rerun = False) (output location and filename - '.lineage')\"\n",
    "lineage_path = argv[1]\n",
    "rerun = False\n",
    "if len(argv) > 2:\n",
    "    rerun = True\n",
    "\n",
    "#if both output files exist, exit\n",
    "if os.path.isfile(lineage_path+\".lineage\") and rerun == False:\n",
    "    sys.exit(lineage_path+\".lineage  already exists\")\n",
    "\n",
    "out_lineage = lineage_timeless(lineage_path, lineage_path, calc_fdim = False)\n",
    "\n",
    "if len(argv) >3:\n",
    "    out_lineage.save_object(fout = argv[3] + \".lineage\")\n",
    "else:\n",
    "    out_lineage.save_object(fout = lineage_path +\".lineage\")"
   ]
  },
  {
   "cell_type": "code",
   "execution_count": 3,
   "metadata": {},
   "outputs": [
    {
     "name": "stdout",
     "output_type": "stream",
     "text": [
      "1\n"
     ]
    }
   ],
   "source": [
    "globalpath = \"/\"\n",
    "\n",
    "lineage_list = []\n",
    "\n",
    "lineage_path = \"testlineage.lineage\"\n",
    "templineage = lineage_timeless(lineage_path[0:-8], lineage_path[0:-8], read=False)\n",
    "templineage.load_object(fin = lineage_path)\n",
    "if len(templineage.items) > 10:\n",
    "    lineage_list.append(templineage)\n",
    "\n",
    "print(len(lineage_list))"
   ]
  },
  {
   "cell_type": "code",
   "execution_count": 4,
   "metadata": {},
   "outputs": [
    {
     "name": "stdout",
     "output_type": "stream",
     "text": [
      ".1\n",
      "1\n"
     ]
    }
   ],
   "source": [
    "lineage_list = [lineage for lineage in lineage_list]# if \"p3\" not in lineage.tag]\n",
    "for lineage in lineage_list:\n",
    "    lineage.tag = lineage.tag[35:]\n",
    "    print(lineage.tag)\n",
    "print(len(lineage_list))"
   ]
  },
  {
   "cell_type": "code",
   "execution_count": 5,
   "metadata": {},
   "outputs": [],
   "source": [
    "tester = lineage_list[0]"
   ]
  },
  {
   "cell_type": "code",
   "execution_count": 6,
   "metadata": {},
   "outputs": [
    {
     "data": {
      "text/plain": [
       "1.0"
      ]
     },
     "execution_count": 6,
     "metadata": {},
     "output_type": "execute_result"
    }
   ],
   "source": [
    "tester.items[0].shannon_entropy([0,1])"
   ]
  },
  {
   "cell_type": "markdown",
   "metadata": {},
   "source": []
  },
  {
   "cell_type": "code",
   "execution_count": 7,
   "metadata": {},
   "outputs": [
    {
     "data": {
      "text/plain": [
       "0.6395563653739031"
      ]
     },
     "execution_count": 7,
     "metadata": {},
     "output_type": "execute_result"
    }
   ],
   "source": [
    "tester.items[0].compmass_entropy()"
   ]
  },
  {
   "cell_type": "code",
   "execution_count": 8,
   "metadata": {},
   "outputs": [
    {
     "data": {
      "text/plain": [
       "0.6906950555920002"
      ]
     },
     "execution_count": 8,
     "metadata": {},
     "output_type": "execute_result"
    }
   ],
   "source": [
    "tester.items[0].colorability_entropy()"
   ]
  },
  {
   "cell_type": "code",
   "execution_count": 9,
   "metadata": {},
   "outputs": [
    {
     "data": {
      "text/plain": [
       "0.6906950555920002"
      ]
     },
     "execution_count": 9,
     "metadata": {},
     "output_type": "execute_result"
    }
   ],
   "source": [
    "tester.items[0].degree_entropy()"
   ]
  },
  {
   "cell_type": "code",
   "execution_count": 11,
   "metadata": {},
   "outputs": [
    {
     "name": "stdout",
     "output_type": "stream",
     "text": [
      "1.0\n",
      "0.6071428571428574\n",
      "0.42361904761904756\n",
      "0.5748299319727891\n",
      "0\n",
      "0\n",
      "1.0\n",
      "0.42530120481927697\n",
      "0.567524752475248\n",
      "0.16542155816435422\n",
      "0.47222222222222215\n",
      "0.49177381753843236\n",
      "0.6732673267326734\n",
      "0.5774647887323944\n",
      "0.5414423508299685\n",
      "0.4133236195087252\n",
      "0.3787878787878788\n",
      "0.3624772313296904\n",
      "0.4925133346185979\n",
      "0.4967999551478229\n"
     ]
    },
    {
     "name": "stderr",
     "output_type": "stream",
     "text": [
      "/Users/trevorchan/environments/machine-learning/lib/python3.7/site-packages/scipy/stats/stats.py:3508: PearsonRConstantInputWarning: An input array is constant; the correlation coefficent is not defined.\n",
      "  warnings.warn(PearsonRConstantInputWarning())\n"
     ]
    }
   ],
   "source": [
    "for item in tester.items:\n",
    "    print(item.assortativity())"
   ]
  },
  {
   "cell_type": "code",
   "execution_count": null,
   "metadata": {},
   "outputs": [],
   "source": []
  }
 ],
 "metadata": {
  "kernelspec": {
   "display_name": "Python 3",
   "language": "python",
   "name": "python3"
  },
  "language_info": {
   "codemirror_mode": {
    "name": "ipython",
    "version": 3
   },
   "file_extension": ".py",
   "mimetype": "text/x-python",
   "name": "python",
   "nbconvert_exporter": "python",
   "pygments_lexer": "ipython3",
   "version": "3.7.7"
  }
 },
 "nbformat": 4,
 "nbformat_minor": 4
}
