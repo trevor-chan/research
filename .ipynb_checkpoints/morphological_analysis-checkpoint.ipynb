{
 "cells": [
  {
   "cell_type": "code",
   "execution_count": 7,
   "metadata": {},
   "outputs": [],
   "source": [
    "import sys\n",
    "import math\n",
    "import matplotlib.pyplot as plt\n",
    "import numpy as np\n",
    "import glob\n",
    "import os\n",
    "\n",
    "from numpy import asarray\n",
    "from PIL import Image\n",
    "from skimage.draw import ellipse\n",
    "from skimage.measure import label, regionprops, find_contours, approximate_polygon\n",
    "from skimage.transform import rotate\n",
    "from sklearn.neighbors import KDTree\n",
    "from scipy.spatial import distance\n",
    "\n",
    "import hdbscan\n",
    "\n",
    "### Uses numpy, skimage, pillow"
   ]
  },
  {
   "cell_type": "code",
   "execution_count": 2,
   "metadata": {},
   "outputs": [],
   "source": [
    "class cell_poly:\n",
    "    #centroid as a 1x2 tuple (x,y)\n",
    "    #polygon as a list of 1x2 tuples (x,y)\n",
    "    def __init__(self, centroid, polygon):\n",
    "        self.centroid = centroid\n",
    "        self.polygon = polygon"
   ]
  },
  {
   "cell_type": "code",
   "execution_count": 3,
   "metadata": {},
   "outputs": [],
   "source": [
    "def cell_poly_properties(img):\n",
    "    #takes in an array of a binary mask\n",
    "    #finds all cell centroids and polygonal borders in a given mask\n",
    "    #returns a cell array of user defined objects\n",
    "    \n",
    "    \n",
    "    #img = asarray(Image.open(image_path))\n",
    "    img = label(img)\n",
    "    regions = regionprops(img)\n",
    "    \n",
    "    # SUGGESTED\n",
    "    boundary = [approximate_polygon (contour, tolerance=1) for contour in find_contours (img, 0)]\n",
    "    '''\n",
    "    boundary = []\n",
    "    for i,contour in enumerate(find_contours(img, 0)):\n",
    "        boundary[i] = approximate_polygon(contour, tolerance = 1)\n",
    "    '''\n",
    "    \n",
    "    # SUGGESTED\n",
    "    cell_poly_list = [cell_poly (regions[i].centroid, boundary[i]) for i in range (0, len(boundary))]\n",
    "    '''\n",
    "    cell_poly_list = []\n",
    "    for i,contour in enumerate(boundary):\n",
    "        cell_poly_list[i] = cell_poly(regions[i].centroid, contour)\n",
    "    return cell_poly_list\n",
    "    '''"
   ]
  },
  {
   "cell_type": "code",
   "execution_count": 12,
   "metadata": {},
   "outputs": [],
   "source": [
    "def make_adjacencies(clist, mindist):\n",
    "    #takes a list of n cell_poly objects\n",
    "    #takes a minimum distance defined as adjacent\n",
    "    #returns an adjacency list of length n\n",
    "    \n",
    "    centroid_list = []\n",
    "    adjacency_list = []\n",
    "    wide_list = []\n",
    "    \n",
    "    centroid_list = [cell.centroid for cell in clist]\n",
    "    '''\n",
    "    for i,cell in enumerate(clist):\n",
    "        centroid_list[i] = cell.centroid\n",
    "    '''\n",
    "    \n",
    "    tree = KDTree(centroid_list, leafsize=10)\n",
    "    \n",
    "    wide_list = [tree.query_radius(center, mindist*10) for center in centroid_list]\n",
    "    \n",
    "    for i,small_list in enumerate(wide_list):\n",
    "        adjacency_list.append (list())\n",
    "        for index in small_list:\n",
    "            # if we've already explored this pair then skip (as cdist _should_ be symmetrical)\n",
    "            if index <= i:\n",
    "                continue\n",
    "            d = distance.cdist(clist[i].polygon,clist[index].polygon,'euclidean')\n",
    "            if min(d) < mindist:\n",
    "                adjacency_list[i].append (index)\n",
    "    \n",
    "    # TODO: correct all singly-matched pairs (which should be all of them)\n",
    "    return adjacency_list"
   ]
  },
  {
   "cell_type": "code",
   "execution_count": 18,
   "metadata": {},
   "outputs": [],
   "source": [
    "def HDB_cluster(centroids_list, min_size):\n",
    "    clusterer = hdbscan.HDBSCAN(min_cluster_size=min_size)\n",
    "    cluster_labels = clusterer.fit_predict(centroids_list)\n",
    "    hierarchy = clusterer.cluster_hierarchy_\n",
    "    alt_labels = hierarchy.get_clusters(0.100, 5)\n",
    "    #hierarchy.plot()\n",
    "    return (cluster_labels,hierarchy,alt_labels)\n",
    "    \n",
    "    #plot_clusters(data, hdbscan.HDBSCAN, (), {'min_cluster_size':15})"
   ]
  },
  {
   "cell_type": "code",
   "execution_count": 19,
   "metadata": {},
   "outputs": [
    {
     "ename": "NameError",
     "evalue": "name 'image_path' is not defined",
     "output_type": "error",
     "traceback": [
      "\u001b[0;31m---------------------------------------------------------------------------\u001b[0m",
      "\u001b[0;31mNameError\u001b[0m                                 Traceback (most recent call last)",
      "\u001b[0;32m<ipython-input-19-d267551f8089>\u001b[0m in \u001b[0;36m<module>\u001b[0;34m\u001b[0m\n\u001b[1;32m     11\u001b[0m \u001b[0;31m#or (temporary) a binary image\u001b[0m\u001b[0;34m\u001b[0m\u001b[0;34m\u001b[0m\u001b[0;34m\u001b[0m\u001b[0m\n\u001b[1;32m     12\u001b[0m \u001b[0;34m\u001b[0m\u001b[0m\n\u001b[0;32m---> 13\u001b[0;31m \u001b[0mimg\u001b[0m \u001b[0;34m=\u001b[0m \u001b[0masarray\u001b[0m\u001b[0;34m(\u001b[0m\u001b[0mImage\u001b[0m\u001b[0;34m.\u001b[0m\u001b[0mopen\u001b[0m\u001b[0;34m(\u001b[0m\u001b[0mimage_path\u001b[0m\u001b[0;34m)\u001b[0m\u001b[0;34m)\u001b[0m\u001b[0;34m\u001b[0m\u001b[0;34m\u001b[0m\u001b[0m\n\u001b[0m\u001b[1;32m     14\u001b[0m \u001b[0mclist\u001b[0m \u001b[0;34m=\u001b[0m \u001b[0mcell_poly_properties\u001b[0m\u001b[0;34m(\u001b[0m\u001b[0mimg\u001b[0m\u001b[0;34m)\u001b[0m\u001b[0;34m\u001b[0m\u001b[0;34m\u001b[0m\u001b[0m\n\u001b[1;32m     15\u001b[0m \u001b[0madj_list\u001b[0m \u001b[0;34m=\u001b[0m \u001b[0mmake_adjacencies\u001b[0m\u001b[0;34m(\u001b[0m\u001b[0mclist\u001b[0m\u001b[0;34m,\u001b[0m \u001b[0;36m10\u001b[0m\u001b[0;34m)\u001b[0m\u001b[0;34m\u001b[0m\u001b[0;34m\u001b[0m\u001b[0m\n",
      "\u001b[0;31mNameError\u001b[0m: name 'image_path' is not defined"
     ]
    }
   ],
   "source": [
    "#driver\n",
    "\n",
    "'''\n",
    "images[]\n",
    "for image_path in glob.glob(sys.argv[1] + '/*.png'): #filepath of folder\n",
    "    #print(image_path)\n",
    "    img = Image.open(image_path)\n",
    "    images.append(asarray(img))\n",
    "'''\n",
    "#read in a list of polygons and bounding boxes\n",
    "#or (temporary) a binary image\n",
    "image_path = ''\n",
    "img = asarray(Image.open(image_path))\n",
    "clist = cell_poly_properties(img)\n",
    "adj_list = make_adjacencies(clist, 10)\n"
   ]
  },
  {
   "cell_type": "code",
   "execution_count": null,
   "metadata": {},
   "outputs": [],
   "source": [
    "\n",
    "fig, ax = plt.subplots()\n",
    "ax.imshow(img[:,:,0], cmap=plt.cm.gray)\n",
    "\n",
    "\n",
    "ax.plot((x0, x1), (y0, y1), '-r', linewidth=1)\n",
    "plt.show()"
   ]
  }
 ],
 "metadata": {
  "kernelspec": {
   "display_name": "Python 3",
   "language": "python",
   "name": "python3"
  },
  "language_info": {
   "codemirror_mode": {
    "name": "ipython",
    "version": 3
   },
   "file_extension": ".py",
   "mimetype": "text/x-python",
   "name": "python",
   "nbconvert_exporter": "python",
   "pygments_lexer": "ipython3",
   "version": "3.7.3"
  }
 },
 "nbformat": 4,
 "nbformat_minor": 4
}
